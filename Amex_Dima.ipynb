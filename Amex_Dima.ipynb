{
 "cells": [
  {
   "cell_type": "code",
   "execution_count": 2,
   "id": "115f000e",
   "metadata": {
    "cellId": "col86k8k4pqb5h63kl83l"
   },
   "outputs": [
    {
     "name": "stderr",
     "output_type": "stream",
     "text": [
      "--2022-08-13 08:13:19--  https://www.kaggle.com/competitions/amex-default-prediction/data?select=train_data.csv\n",
      "Resolving www.kaggle.com (www.kaggle.com)... 35.244.233.98\n",
      "Connecting to www.kaggle.com (www.kaggle.com)|35.244.233.98|:443... connected.\n",
      "HTTP request sent, awaiting response... 200 OK\n",
      "Length: unspecified [text/html]\n",
      "Saving to: ‘data?select=train_data.csv.1’\n",
      "\n",
      "     0K .......... .......... .......... .......... ........    300K=0.2s\n",
      "\n",
      "2022-08-13 08:13:20 (300 KB/s) - ‘data?select=train_data.csv.1’ saved [50064]\n",
      "\n"
     ]
    }
   ],
   "source": [
    "!wget https://www.kaggle.com/competitions/amex-default-prediction/data?select=train_data.csv"
   ]
  },
  {
   "cell_type": "code",
   "execution_count": 97,
   "id": "924382e9",
   "metadata": {
    "cellId": "slhrqr6gjc926hj31o0xyj"
   },
   "outputs": [
    {
     "name": "stdout",
     "output_type": "stream",
     "text": [
      "Defaulting to user installation because normal site-packages is not writeable\n",
      "Requirement already satisfied: catboost in /usr/local/lib/python3.8/dist-packages (0.24)\n",
      "Collecting catboost\n",
      "  Downloading catboost-1.0.6-cp38-none-manylinux1_x86_64.whl (76.6 MB)\n",
      "     |████████████████████████████████| 76.6 MB 39 kB/s             \n",
      "\u001b[?25hRequirement already satisfied: six in /kernel/lib/python3.8/site-packages (from catboost) (1.16.0)\n",
      "Requirement already satisfied: scipy in /usr/local/lib/python3.8/dist-packages (from catboost) (1.4.1)\n",
      "Requirement already satisfied: plotly in /usr/local/lib/python3.8/dist-packages (from catboost) (4.9.0)\n",
      "Requirement already satisfied: numpy>=1.16.0 in /kernel/fallback/lib/python3.8/site-packages (from catboost) (1.19.4)\n",
      "Requirement already satisfied: matplotlib in /kernel/lib/python3.8/site-packages (from catboost) (3.3.3)\n",
      "Requirement already satisfied: graphviz in /usr/local/lib/python3.8/dist-packages (from catboost) (0.19.1)\n",
      "Requirement already satisfied: pandas>=0.24.0 in /usr/local/lib/python3.8/dist-packages (from catboost) (0.25.3)\n",
      "Requirement already satisfied: pytz>=2017.2 in /usr/local/lib/python3.8/dist-packages (from pandas>=0.24.0->catboost) (2021.3)\n",
      "Requirement already satisfied: python-dateutil>=2.6.1 in /kernel/lib/python3.8/site-packages (from pandas>=0.24.0->catboost) (2.8.2)\n",
      "Requirement already satisfied: pillow>=6.2.0 in /kernel/lib/python3.8/site-packages (from matplotlib->catboost) (9.2.0)\n",
      "Requirement already satisfied: pyparsing!=2.0.4,!=2.1.2,!=2.1.6,>=2.0.3 in /kernel/lib/python3.8/site-packages (from matplotlib->catboost) (2.4.7)\n",
      "Requirement already satisfied: kiwisolver>=1.0.1 in /kernel/lib/python3.8/site-packages (from matplotlib->catboost) (1.4.4)\n",
      "Requirement already satisfied: cycler>=0.10 in /kernel/lib/python3.8/site-packages (from matplotlib->catboost) (0.11.0)\n",
      "Requirement already satisfied: retrying>=1.3.3 in /usr/local/lib/python3.8/dist-packages (from plotly->catboost) (1.3.3)\n",
      "Installing collected packages: catboost\n",
      "Successfully installed catboost-1.0.6\n",
      "\u001b[33mWARNING: You are using pip version 21.3.1; however, version 22.2.2 is available.\n",
      "You should consider upgrading via the '/usr/local/bin/python3 -m pip install --upgrade pip' command.\u001b[0m\n"
     ]
    }
   ],
   "source": [
    "%pip install catboost -U"
   ]
  },
  {
   "cell_type": "code",
   "execution_count": 31,
   "id": "d9a7733d",
   "metadata": {
    "cellId": "253blhvnowtsw3d7rfuhy"
   },
   "outputs": [],
   "source": [
    "import numpy as np # linear algebra\n",
    "import pandas as pd\n",
    "import joblib\n",
    "import datetime\n",
    "from sklearn.model_selection import KFold, StratifiedKFold, cross_val_score\n",
    "import copy\n",
    "import gc\n",
    "\n",
    "from scipy.sparse import csr_matrix\n",
    "from sklearn.experimental import enable_iterative_imputer\n",
    "from sklearn.impute import IterativeImputer\n",
    "from sklearn.model_selection import StratifiedKFold\n",
    "from sklearn.neighbors import KNeighborsClassifier\n",
    "from sklearn.metrics import accuracy_score\n",
    "from sklearn.linear_model import LinearRegression\n",
    "from sklearn.metrics import mean_squared_error\n",
    "import os\n",
    "import time\n",
    "\n",
    "# Essential DS libraries\n",
    "import numpy as np\n",
    "import pandas as pd\n",
    "from sklearn.metrics import roc_auc_score\n",
    "from sklearn.model_selection import train_test_split\n",
    "import torch\n",
    "from catboost import CatBoostClassifier\n",
    "from catboost import Pool, cv\n",
    "from sklearn.preprocessing import LabelEncoder\n",
    "import tqdm\n",
    "\n",
    "from sklearn.linear_model import LogisticRegression\n",
    "import torch.nn.functional as F\n",
    "import math\n",
    "\n",
    "import torch\n",
    "import pandas as pd\n",
    "import torch.nn as nn\n",
    "from torch.autograd import Variable\n",
    "#from tqdm.notebook import tqdm\n",
    "from sklearn.metrics import roc_auc_score\n",
    "import random\n",
    "import torch\n",
    "import pandas as pd\n",
    "import torch.nn as nn\n",
    "from torch.autograd import Variable\n",
    "#from tqdm.notebook import tqdm\n",
    "from sklearn.metrics import roc_auc_score\n",
    "import random\n",
    "torch.manual_seed(42)\n",
    "random.seed(42)\n",
    "np.random.seed(42)\n",
    "torch.cuda.manual_seed(42)\n",
    "torch.cuda.manual_seed_all(42)\n",
    "rng = np.random.default_rng(seed=42)"
   ]
  },
  {
   "cell_type": "code",
   "execution_count": null,
   "id": "314aa4c3",
   "metadata": {
    "cellId": "xi7ot8viean6njz30a64f"
   },
   "outputs": [],
   "source": []
  },
  {
   "cell_type": "code",
   "execution_count": 22,
   "id": "357d4bb5",
   "metadata": {
    "cellId": "j92q2ta91e8jhh9iyniznd"
   },
   "outputs": [
    {
     "name": "stdout",
     "output_type": "stream",
     "text": [
      "Archive:  train_labels.csv.zip\n",
      "  inflating: train_labels.csv        \n"
     ]
    }
   ],
   "source": [
    "!unzip 'train_labels.csv.zip'"
   ]
  },
  {
   "cell_type": "code",
   "execution_count": 14,
   "id": "7bd73b4a",
   "metadata": {
    "cellId": "81qsbhdhx2q6emjq4nljos"
   },
   "outputs": [
    {
     "ename": "NameError",
     "evalue": "name 'read_csv' is not defined",
     "output_type": "error",
     "traceback": [
      "\u001b[0;31m---------------------------------------------------------------------------\u001b[0m",
      "\u001b[0;31mNameError\u001b[0m                                 Traceback (most recent call last)",
      "\u001b[0;32m<ipython-input-1-10883eb56876>\u001b[0m in \u001b[0;36m<module>\u001b[0;34m\u001b[0m\n\u001b[0;32m----> 1\u001b[0;31m \u001b[0mdf\u001b[0m\u001b[0;34m=\u001b[0m\u001b[0mread_csv\u001b[0m\u001b[0;34m(\u001b[0m\u001b[0;34m\"train_data.csv\"\u001b[0m\u001b[0;34m)\u001b[0m\u001b[0;34m\u001b[0m\u001b[0;34m\u001b[0m\u001b[0m\n\u001b[0m\u001b[1;32m      2\u001b[0m \u001b[0;31m#\u001b[0m\u001b[0;34m\u001b[0m\u001b[0;34m\u001b[0m\u001b[0;34m\u001b[0m\u001b[0m\n",
      "\u001b[0;31mNameError\u001b[0m: name 'read_csv' is not defined"
     ]
    }
   ],
   "source": [
    "#!c1.8\n",
    "df=read_csv(\"train_data.csv\")"
   ]
  },
  {
   "cell_type": "code",
   "execution_count": 16,
   "id": "ce51df58",
   "metadata": {
    "cellId": "23m0a53k50izf157v0be6n"
   },
   "outputs": [],
   "source": [
    "#!c1.8\n",
    "import pandas as pd"
   ]
  },
  {
   "cell_type": "code",
   "execution_count": 18,
   "id": "c891d34f",
   "metadata": {
    "cellId": "r6oxlt874n92gmbjusiife"
   },
   "outputs": [],
   "source": [
    "#!c1.8\n",
    "df=pd.read_csv(\"train_data.csv\")"
   ]
  },
  {
   "cell_type": "code",
   "execution_count": 25,
   "id": "499d9c1d",
   "metadata": {
    "cellId": "paldol43gox9v0a4sgjhb"
   },
   "outputs": [
    {
     "data": {
      "text/html": [
       "<div>\n",
       "<style scoped>\n",
       "    .dataframe tbody tr th:only-of-type {\n",
       "        vertical-align: middle;\n",
       "    }\n",
       "\n",
       "    .dataframe tbody tr th {\n",
       "        vertical-align: top;\n",
       "    }\n",
       "\n",
       "    .dataframe thead th {\n",
       "        text-align: right;\n",
       "    }\n",
       "</style>\n",
       "<table border=\"1\" class=\"dataframe\">\n",
       "  <thead>\n",
       "    <tr style=\"text-align: right;\">\n",
       "      <th></th>\n",
       "      <th>customer_ID</th>\n",
       "      <th>S_2</th>\n",
       "      <th>P_2</th>\n",
       "      <th>D_39</th>\n",
       "      <th>B_1</th>\n",
       "      <th>B_2</th>\n",
       "      <th>R_1</th>\n",
       "      <th>S_3</th>\n",
       "      <th>D_41</th>\n",
       "      <th>B_3</th>\n",
       "      <th>...</th>\n",
       "      <th>D_137</th>\n",
       "      <th>D_138</th>\n",
       "      <th>D_139</th>\n",
       "      <th>D_140</th>\n",
       "      <th>D_141</th>\n",
       "      <th>D_142</th>\n",
       "      <th>D_143</th>\n",
       "      <th>D_144</th>\n",
       "      <th>D_145</th>\n",
       "      <th>target</th>\n",
       "    </tr>\n",
       "  </thead>\n",
       "  <tbody>\n",
       "    <tr>\n",
       "      <th>0</th>\n",
       "      <td>0000099d6bd597052cdcda90ffabf56573fe9d7c79be5f...</td>\n",
       "      <td>2017-03-09</td>\n",
       "      <td>0.938469</td>\n",
       "      <td>0.001733</td>\n",
       "      <td>0.008724</td>\n",
       "      <td>1.006838</td>\n",
       "      <td>0.009228</td>\n",
       "      <td>0.124035</td>\n",
       "      <td>0.008771</td>\n",
       "      <td>0.004709</td>\n",
       "      <td>...</td>\n",
       "      <td>NaN</td>\n",
       "      <td>NaN</td>\n",
       "      <td>0.002427</td>\n",
       "      <td>0.003706</td>\n",
       "      <td>0.003818</td>\n",
       "      <td>NaN</td>\n",
       "      <td>0.000569</td>\n",
       "      <td>0.000610</td>\n",
       "      <td>0.002674</td>\n",
       "      <td>0</td>\n",
       "    </tr>\n",
       "    <tr>\n",
       "      <th>1</th>\n",
       "      <td>0000099d6bd597052cdcda90ffabf56573fe9d7c79be5f...</td>\n",
       "      <td>2017-04-07</td>\n",
       "      <td>0.936665</td>\n",
       "      <td>0.005775</td>\n",
       "      <td>0.004923</td>\n",
       "      <td>1.000653</td>\n",
       "      <td>0.006151</td>\n",
       "      <td>0.126750</td>\n",
       "      <td>0.000798</td>\n",
       "      <td>0.002714</td>\n",
       "      <td>...</td>\n",
       "      <td>NaN</td>\n",
       "      <td>NaN</td>\n",
       "      <td>0.003954</td>\n",
       "      <td>0.003167</td>\n",
       "      <td>0.005032</td>\n",
       "      <td>NaN</td>\n",
       "      <td>0.009576</td>\n",
       "      <td>0.005492</td>\n",
       "      <td>0.009217</td>\n",
       "      <td>0</td>\n",
       "    </tr>\n",
       "    <tr>\n",
       "      <th>2</th>\n",
       "      <td>0000099d6bd597052cdcda90ffabf56573fe9d7c79be5f...</td>\n",
       "      <td>2017-05-28</td>\n",
       "      <td>0.954180</td>\n",
       "      <td>0.091505</td>\n",
       "      <td>0.021655</td>\n",
       "      <td>1.009672</td>\n",
       "      <td>0.006815</td>\n",
       "      <td>0.123977</td>\n",
       "      <td>0.007598</td>\n",
       "      <td>0.009423</td>\n",
       "      <td>...</td>\n",
       "      <td>NaN</td>\n",
       "      <td>NaN</td>\n",
       "      <td>0.003269</td>\n",
       "      <td>0.007329</td>\n",
       "      <td>0.000427</td>\n",
       "      <td>NaN</td>\n",
       "      <td>0.003429</td>\n",
       "      <td>0.006986</td>\n",
       "      <td>0.002603</td>\n",
       "      <td>0</td>\n",
       "    </tr>\n",
       "    <tr>\n",
       "      <th>3</th>\n",
       "      <td>0000099d6bd597052cdcda90ffabf56573fe9d7c79be5f...</td>\n",
       "      <td>2017-06-13</td>\n",
       "      <td>0.960384</td>\n",
       "      <td>0.002455</td>\n",
       "      <td>0.013683</td>\n",
       "      <td>1.002700</td>\n",
       "      <td>0.001373</td>\n",
       "      <td>0.117169</td>\n",
       "      <td>0.000685</td>\n",
       "      <td>0.005531</td>\n",
       "      <td>...</td>\n",
       "      <td>NaN</td>\n",
       "      <td>NaN</td>\n",
       "      <td>0.006117</td>\n",
       "      <td>0.004516</td>\n",
       "      <td>0.003200</td>\n",
       "      <td>NaN</td>\n",
       "      <td>0.008419</td>\n",
       "      <td>0.006527</td>\n",
       "      <td>0.009600</td>\n",
       "      <td>0</td>\n",
       "    </tr>\n",
       "    <tr>\n",
       "      <th>4</th>\n",
       "      <td>0000099d6bd597052cdcda90ffabf56573fe9d7c79be5f...</td>\n",
       "      <td>2017-07-16</td>\n",
       "      <td>0.947248</td>\n",
       "      <td>0.002483</td>\n",
       "      <td>0.015193</td>\n",
       "      <td>1.000727</td>\n",
       "      <td>0.007605</td>\n",
       "      <td>0.117325</td>\n",
       "      <td>0.004653</td>\n",
       "      <td>0.009312</td>\n",
       "      <td>...</td>\n",
       "      <td>NaN</td>\n",
       "      <td>NaN</td>\n",
       "      <td>0.003671</td>\n",
       "      <td>0.004946</td>\n",
       "      <td>0.008889</td>\n",
       "      <td>NaN</td>\n",
       "      <td>0.001670</td>\n",
       "      <td>0.008126</td>\n",
       "      <td>0.009827</td>\n",
       "      <td>0</td>\n",
       "    </tr>\n",
       "  </tbody>\n",
       "</table>\n",
       "<p>5 rows × 191 columns</p>\n",
       "</div>"
      ],
      "text/plain": [
       "                                         customer_ID         S_2       P_2  \\\n",
       "0  0000099d6bd597052cdcda90ffabf56573fe9d7c79be5f...  2017-03-09  0.938469   \n",
       "1  0000099d6bd597052cdcda90ffabf56573fe9d7c79be5f...  2017-04-07  0.936665   \n",
       "2  0000099d6bd597052cdcda90ffabf56573fe9d7c79be5f...  2017-05-28  0.954180   \n",
       "3  0000099d6bd597052cdcda90ffabf56573fe9d7c79be5f...  2017-06-13  0.960384   \n",
       "4  0000099d6bd597052cdcda90ffabf56573fe9d7c79be5f...  2017-07-16  0.947248   \n",
       "\n",
       "       D_39       B_1       B_2       R_1       S_3      D_41       B_3  ...  \\\n",
       "0  0.001733  0.008724  1.006838  0.009228  0.124035  0.008771  0.004709  ...   \n",
       "1  0.005775  0.004923  1.000653  0.006151  0.126750  0.000798  0.002714  ...   \n",
       "2  0.091505  0.021655  1.009672  0.006815  0.123977  0.007598  0.009423  ...   \n",
       "3  0.002455  0.013683  1.002700  0.001373  0.117169  0.000685  0.005531  ...   \n",
       "4  0.002483  0.015193  1.000727  0.007605  0.117325  0.004653  0.009312  ...   \n",
       "\n",
       "   D_137  D_138     D_139     D_140     D_141  D_142     D_143     D_144  \\\n",
       "0    NaN    NaN  0.002427  0.003706  0.003818    NaN  0.000569  0.000610   \n",
       "1    NaN    NaN  0.003954  0.003167  0.005032    NaN  0.009576  0.005492   \n",
       "2    NaN    NaN  0.003269  0.007329  0.000427    NaN  0.003429  0.006986   \n",
       "3    NaN    NaN  0.006117  0.004516  0.003200    NaN  0.008419  0.006527   \n",
       "4    NaN    NaN  0.003671  0.004946  0.008889    NaN  0.001670  0.008126   \n",
       "\n",
       "      D_145  target  \n",
       "0  0.002674       0  \n",
       "1  0.009217       0  \n",
       "2  0.002603       0  \n",
       "3  0.009600       0  \n",
       "4  0.009827       0  \n",
       "\n",
       "[5 rows x 191 columns]"
      ]
     },
     "execution_count": 25,
     "metadata": {},
     "output_type": "execute_result"
    }
   ],
   "source": [
    "#!c1.8\n",
    "df.head()"
   ]
  },
  {
   "cell_type": "code",
   "execution_count": 21,
   "id": "cc7d5101",
   "metadata": {
    "cellId": "8jl2jhfvu6d6wuqaldqgh"
   },
   "outputs": [
    {
     "data": {
      "text/plain": [
       "5531451"
      ]
     },
     "execution_count": 21,
     "metadata": {},
     "output_type": "execute_result"
    }
   ],
   "source": [
    "#!c1.8\n",
    "len(df)"
   ]
  },
  {
   "cell_type": "code",
   "execution_count": 23,
   "id": "f55bd0f3",
   "metadata": {
    "cellId": "u3g9j85idsgkfokpppypm"
   },
   "outputs": [],
   "source": [
    "#!c1.8\n",
    "labels=pd.read_csv('train_labels.csv')"
   ]
  },
  {
   "cell_type": "code",
   "execution_count": 24,
   "id": "c95af18c",
   "metadata": {
    "cellId": "tfbo6tsob49yp80iwzln9"
   },
   "outputs": [],
   "source": [
    "#!c1.8\n",
    "df=df.merge(labels, how='left',left_on='customer_ID',right_on='customer_ID')"
   ]
  },
  {
   "cell_type": "code",
   "execution_count": 26,
   "id": "d69f23b6",
   "metadata": {
    "cellId": "ja7eyv0ww6ninu6eyxr9s"
   },
   "outputs": [
    {
     "name": "stdout",
     "output_type": "stream",
     "text": [
      "<class 'pandas.core.frame.DataFrame'>\n",
      "Int64Index: 5531451 entries, 0 to 5531450\n",
      "Columns: 191 entries, customer_ID to target\n",
      "dtypes: float64(185), int64(2), object(4)\n",
      "memory usage: 7.9+ GB\n"
     ]
    }
   ],
   "source": [
    "#!c1.8\n",
    "\n",
    "df.info()\n"
   ]
  },
  {
   "cell_type": "code",
   "execution_count": 27,
   "id": "d5beddfb",
   "metadata": {
    "cellId": "52zzzcgbpnx6fz8y1joaje"
   },
   "outputs": [],
   "source": [
    "#!c1.8\n",
    "all_cols = df.columns.to_list()\n",
    "cat_cols = ['B_30', 'B_38', 'D_114', 'D_116', 'D_117', 'D_120', 'D_126', 'D_63', 'D_64', 'D_66', 'D_68']\n",
    "\n",
    "dtype = {col: 'float16' for col in all_cols if col not in (cat_cols + ['customer_ID', 'S_2'])}\n",
    "\n",
    "for col in cat_cols + ['customer_ID']:\n",
    "    dtype[col] = 'category'\n",
    "    \n"
   ]
  },
  {
   "cell_type": "code",
   "execution_count": 32,
   "id": "0d020421",
   "metadata": {
    "cellId": "0oqe6rt0ud2a27a2jpmjzp"
   },
   "outputs": [],
   "source": [
    "#!c1.8\n",
    "for i in dtype.keys():\n",
    "    if dtype[i]=='float16':\n",
    "        df[i]=np.float16(df[i])"
   ]
  },
  {
   "cell_type": "code",
   "execution_count": 33,
   "id": "013dbe21",
   "metadata": {
    "cellId": "yvzum6nikwg5xfg7p4vh6j"
   },
   "outputs": [
    {
     "data": {
      "text/plain": [
       "3"
      ]
     },
     "execution_count": 33,
     "metadata": {},
     "output_type": "execute_result"
    }
   ],
   "source": [
    "#!c1.8\n",
    "gc.collect()"
   ]
  },
  {
   "cell_type": "code",
   "execution_count": 34,
   "id": "8db1d31f",
   "metadata": {
    "cellId": "vqbakoe9br916o89hi6zj"
   },
   "outputs": [
    {
     "data": {
      "text/plain": [
       "['small_df.sav']"
      ]
     },
     "execution_count": 34,
     "metadata": {},
     "output_type": "execute_result"
    }
   ],
   "source": [
    "#!c1.8\n",
    "joblib.dump(df,'small_df.sav')"
   ]
  },
  {
   "cell_type": "code",
   "execution_count": 49,
   "id": "d0ae4287",
   "metadata": {
    "cellId": "80e4bwm265i3eb46kb2qx7"
   },
   "outputs": [],
   "source": [
    "#!c1.8\n",
    "CAT_COLUMNS = ['B_30', 'B_38', 'D_114', 'D_116', 'D_117', 'D_120', 'D_126', 'D_63', 'D_64', 'D_66', 'D_68']\n",
    "\n",
    "NUMERIC_COLUMNS = [ i for i in dtype.keys() if dtype[i]=='float16']\n",
    "NUMERIC_COLUMNS.remove('target')\n",
    "catboost_features=CAT_COLUMNS+NUMERIC_COLUMNS"
   ]
  },
  {
   "cell_type": "code",
   "execution_count": 102,
   "id": "99d4a6ab",
   "metadata": {
    "cellId": "rw649hc5kyrrxje5heq7c9"
   },
   "outputs": [
    {
     "data": {
      "text/html": [
       "<div>\n",
       "<style scoped>\n",
       "    .dataframe tbody tr th:only-of-type {\n",
       "        vertical-align: middle;\n",
       "    }\n",
       "\n",
       "    .dataframe tbody tr th {\n",
       "        vertical-align: top;\n",
       "    }\n",
       "\n",
       "    .dataframe thead th {\n",
       "        text-align: right;\n",
       "    }\n",
       "</style>\n",
       "<table border=\"1\" class=\"dataframe\">\n",
       "  <thead>\n",
       "    <tr style=\"text-align: right;\">\n",
       "      <th></th>\n",
       "      <th>customer_ID</th>\n",
       "      <th>S_2</th>\n",
       "      <th>P_2</th>\n",
       "      <th>D_39</th>\n",
       "      <th>B_1</th>\n",
       "      <th>B_2</th>\n",
       "      <th>R_1</th>\n",
       "      <th>S_3</th>\n",
       "      <th>D_41</th>\n",
       "      <th>B_3</th>\n",
       "      <th>...</th>\n",
       "      <th>D_137</th>\n",
       "      <th>D_138</th>\n",
       "      <th>D_139</th>\n",
       "      <th>D_140</th>\n",
       "      <th>D_141</th>\n",
       "      <th>D_142</th>\n",
       "      <th>D_143</th>\n",
       "      <th>D_144</th>\n",
       "      <th>D_145</th>\n",
       "      <th>target</th>\n",
       "    </tr>\n",
       "  </thead>\n",
       "  <tbody>\n",
       "    <tr>\n",
       "      <th>650470</th>\n",
       "      <td>1e4a396a77c9f3bc595809716f0570cd4be39685734f48...</td>\n",
       "      <td>2017-08-31</td>\n",
       "      <td>0.643555</td>\n",
       "      <td>0.270996</td>\n",
       "      <td>0.011101</td>\n",
       "      <td>1.007812</td>\n",
       "      <td>0.008347</td>\n",
       "      <td>0.126465</td>\n",
       "      <td>0.122009</td>\n",
       "      <td>0.006149</td>\n",
       "      <td>...</td>\n",
       "      <td>-1.0</td>\n",
       "      <td>-1.0</td>\n",
       "      <td>0.009758</td>\n",
       "      <td>0.008209</td>\n",
       "      <td>0.008629</td>\n",
       "      <td>-1.000000</td>\n",
       "      <td>0.000362</td>\n",
       "      <td>0.003223</td>\n",
       "      <td>0.001394</td>\n",
       "      <td>0.0</td>\n",
       "    </tr>\n",
       "    <tr>\n",
       "      <th>3689326</th>\n",
       "      <td>aa724b2873dadc69e4c02d4d01bdc7573311c3d2caee6f...</td>\n",
       "      <td>2018-03-24</td>\n",
       "      <td>0.543945</td>\n",
       "      <td>0.355713</td>\n",
       "      <td>0.443359</td>\n",
       "      <td>0.025558</td>\n",
       "      <td>0.003366</td>\n",
       "      <td>0.216064</td>\n",
       "      <td>0.006668</td>\n",
       "      <td>0.739258</td>\n",
       "      <td>...</td>\n",
       "      <td>-1.0</td>\n",
       "      <td>-1.0</td>\n",
       "      <td>0.005718</td>\n",
       "      <td>0.004761</td>\n",
       "      <td>0.007889</td>\n",
       "      <td>-1.000000</td>\n",
       "      <td>0.000877</td>\n",
       "      <td>0.000265</td>\n",
       "      <td>0.000416</td>\n",
       "      <td>1.0</td>\n",
       "    </tr>\n",
       "    <tr>\n",
       "      <th>5011625</th>\n",
       "      <td>e7d4c5ef7004b988f21985a290a8eb97f02c4d7c492328...</td>\n",
       "      <td>2017-09-07</td>\n",
       "      <td>0.894531</td>\n",
       "      <td>0.416504</td>\n",
       "      <td>0.033051</td>\n",
       "      <td>1.000977</td>\n",
       "      <td>0.007790</td>\n",
       "      <td>0.150391</td>\n",
       "      <td>0.002085</td>\n",
       "      <td>0.006393</td>\n",
       "      <td>...</td>\n",
       "      <td>-1.0</td>\n",
       "      <td>-1.0</td>\n",
       "      <td>0.002041</td>\n",
       "      <td>0.007996</td>\n",
       "      <td>0.002890</td>\n",
       "      <td>-1.000000</td>\n",
       "      <td>0.005955</td>\n",
       "      <td>0.004543</td>\n",
       "      <td>0.008514</td>\n",
       "      <td>0.0</td>\n",
       "    </tr>\n",
       "    <tr>\n",
       "      <th>3241525</th>\n",
       "      <td>95bd90a0547f8f42a093a0ea442b920eca9bef9e514ce5...</td>\n",
       "      <td>2017-08-14</td>\n",
       "      <td>0.772461</td>\n",
       "      <td>0.003546</td>\n",
       "      <td>0.025269</td>\n",
       "      <td>0.813965</td>\n",
       "      <td>0.005962</td>\n",
       "      <td>0.057709</td>\n",
       "      <td>0.004494</td>\n",
       "      <td>0.011116</td>\n",
       "      <td>...</td>\n",
       "      <td>-1.0</td>\n",
       "      <td>-1.0</td>\n",
       "      <td>0.005867</td>\n",
       "      <td>0.007202</td>\n",
       "      <td>0.005505</td>\n",
       "      <td>-1.000000</td>\n",
       "      <td>0.007412</td>\n",
       "      <td>0.005386</td>\n",
       "      <td>0.004082</td>\n",
       "      <td>0.0</td>\n",
       "    </tr>\n",
       "    <tr>\n",
       "      <th>1552740</th>\n",
       "      <td>47858837194d4c527d2e78b7797fd50f0c534cad7911ef...</td>\n",
       "      <td>2017-05-14</td>\n",
       "      <td>0.672852</td>\n",
       "      <td>0.183716</td>\n",
       "      <td>0.041779</td>\n",
       "      <td>1.003906</td>\n",
       "      <td>0.001216</td>\n",
       "      <td>0.350342</td>\n",
       "      <td>0.009979</td>\n",
       "      <td>0.008041</td>\n",
       "      <td>...</td>\n",
       "      <td>-1.0</td>\n",
       "      <td>-1.0</td>\n",
       "      <td>0.003824</td>\n",
       "      <td>0.007252</td>\n",
       "      <td>0.004658</td>\n",
       "      <td>-1.000000</td>\n",
       "      <td>0.009514</td>\n",
       "      <td>0.001801</td>\n",
       "      <td>0.006798</td>\n",
       "      <td>0.0</td>\n",
       "    </tr>\n",
       "    <tr>\n",
       "      <th>...</th>\n",
       "      <td>...</td>\n",
       "      <td>...</td>\n",
       "      <td>...</td>\n",
       "      <td>...</td>\n",
       "      <td>...</td>\n",
       "      <td>...</td>\n",
       "      <td>...</td>\n",
       "      <td>...</td>\n",
       "      <td>...</td>\n",
       "      <td>...</td>\n",
       "      <td>...</td>\n",
       "      <td>...</td>\n",
       "      <td>...</td>\n",
       "      <td>...</td>\n",
       "      <td>...</td>\n",
       "      <td>...</td>\n",
       "      <td>...</td>\n",
       "      <td>...</td>\n",
       "      <td>...</td>\n",
       "      <td>...</td>\n",
       "      <td>...</td>\n",
       "    </tr>\n",
       "    <tr>\n",
       "      <th>2261263</th>\n",
       "      <td>687c56c38126587e4ee0909b6e232657eabf89d07bd388...</td>\n",
       "      <td>2017-11-18</td>\n",
       "      <td>0.426514</td>\n",
       "      <td>0.002314</td>\n",
       "      <td>0.005577</td>\n",
       "      <td>0.815918</td>\n",
       "      <td>0.003101</td>\n",
       "      <td>-1.000000</td>\n",
       "      <td>0.003685</td>\n",
       "      <td>0.000048</td>\n",
       "      <td>...</td>\n",
       "      <td>-1.0</td>\n",
       "      <td>-1.0</td>\n",
       "      <td>1.009766</td>\n",
       "      <td>0.000230</td>\n",
       "      <td>0.867676</td>\n",
       "      <td>0.039795</td>\n",
       "      <td>1.004883</td>\n",
       "      <td>0.004978</td>\n",
       "      <td>0.098755</td>\n",
       "      <td>0.0</td>\n",
       "    </tr>\n",
       "    <tr>\n",
       "      <th>3688365</th>\n",
       "      <td>aa67270ff22d3c6ee4bab735d3fe9298534b6f0d3ad0a7...</td>\n",
       "      <td>2017-06-08</td>\n",
       "      <td>0.486084</td>\n",
       "      <td>0.008377</td>\n",
       "      <td>0.003860</td>\n",
       "      <td>0.810059</td>\n",
       "      <td>0.008347</td>\n",
       "      <td>-1.000000</td>\n",
       "      <td>0.000150</td>\n",
       "      <td>0.003393</td>\n",
       "      <td>...</td>\n",
       "      <td>-1.0</td>\n",
       "      <td>-1.0</td>\n",
       "      <td>0.007183</td>\n",
       "      <td>0.009125</td>\n",
       "      <td>0.008011</td>\n",
       "      <td>-1.000000</td>\n",
       "      <td>0.008774</td>\n",
       "      <td>0.008247</td>\n",
       "      <td>0.002357</td>\n",
       "      <td>0.0</td>\n",
       "    </tr>\n",
       "    <tr>\n",
       "      <th>1728331</th>\n",
       "      <td>4fc1f1d5b1ed9f35a5b1871a751daaa247778a9eccf562...</td>\n",
       "      <td>2017-10-07</td>\n",
       "      <td>0.223022</td>\n",
       "      <td>0.005001</td>\n",
       "      <td>0.110107</td>\n",
       "      <td>0.485352</td>\n",
       "      <td>1.003906</td>\n",
       "      <td>0.951660</td>\n",
       "      <td>0.009895</td>\n",
       "      <td>0.022903</td>\n",
       "      <td>...</td>\n",
       "      <td>-1.0</td>\n",
       "      <td>-1.0</td>\n",
       "      <td>0.007763</td>\n",
       "      <td>0.002855</td>\n",
       "      <td>0.004528</td>\n",
       "      <td>-1.000000</td>\n",
       "      <td>0.008896</td>\n",
       "      <td>0.004955</td>\n",
       "      <td>0.008965</td>\n",
       "      <td>1.0</td>\n",
       "    </tr>\n",
       "    <tr>\n",
       "      <th>1905530</th>\n",
       "      <td>57eb0de17baefbdf95e630d6f81358b2290335138e96aa...</td>\n",
       "      <td>2017-07-07</td>\n",
       "      <td>0.854004</td>\n",
       "      <td>0.271729</td>\n",
       "      <td>1.101562</td>\n",
       "      <td>1.000977</td>\n",
       "      <td>0.007046</td>\n",
       "      <td>0.075867</td>\n",
       "      <td>0.007343</td>\n",
       "      <td>0.001590</td>\n",
       "      <td>...</td>\n",
       "      <td>-1.0</td>\n",
       "      <td>-1.0</td>\n",
       "      <td>0.008957</td>\n",
       "      <td>0.002771</td>\n",
       "      <td>0.002815</td>\n",
       "      <td>-1.000000</td>\n",
       "      <td>0.000754</td>\n",
       "      <td>0.002644</td>\n",
       "      <td>0.005783</td>\n",
       "      <td>0.0</td>\n",
       "    </tr>\n",
       "    <tr>\n",
       "      <th>2578711</th>\n",
       "      <td>76fd09abf4be3489d394c89cbcd3985b1f7257ed2b6fd9...</td>\n",
       "      <td>2017-05-07</td>\n",
       "      <td>0.609375</td>\n",
       "      <td>0.360352</td>\n",
       "      <td>0.703125</td>\n",
       "      <td>0.023880</td>\n",
       "      <td>0.007423</td>\n",
       "      <td>0.125732</td>\n",
       "      <td>0.009361</td>\n",
       "      <td>0.528320</td>\n",
       "      <td>...</td>\n",
       "      <td>-1.0</td>\n",
       "      <td>-1.0</td>\n",
       "      <td>0.003899</td>\n",
       "      <td>0.009033</td>\n",
       "      <td>0.003651</td>\n",
       "      <td>-1.000000</td>\n",
       "      <td>0.009460</td>\n",
       "      <td>0.009239</td>\n",
       "      <td>0.008804</td>\n",
       "      <td>1.0</td>\n",
       "    </tr>\n",
       "  </tbody>\n",
       "</table>\n",
       "<p>4425160 rows × 191 columns</p>\n",
       "</div>"
      ],
      "text/plain": [
       "                                               customer_ID         S_2  \\\n",
       "650470   1e4a396a77c9f3bc595809716f0570cd4be39685734f48...  2017-08-31   \n",
       "3689326  aa724b2873dadc69e4c02d4d01bdc7573311c3d2caee6f...  2018-03-24   \n",
       "5011625  e7d4c5ef7004b988f21985a290a8eb97f02c4d7c492328...  2017-09-07   \n",
       "3241525  95bd90a0547f8f42a093a0ea442b920eca9bef9e514ce5...  2017-08-14   \n",
       "1552740  47858837194d4c527d2e78b7797fd50f0c534cad7911ef...  2017-05-14   \n",
       "...                                                    ...         ...   \n",
       "2261263  687c56c38126587e4ee0909b6e232657eabf89d07bd388...  2017-11-18   \n",
       "3688365  aa67270ff22d3c6ee4bab735d3fe9298534b6f0d3ad0a7...  2017-06-08   \n",
       "1728331  4fc1f1d5b1ed9f35a5b1871a751daaa247778a9eccf562...  2017-10-07   \n",
       "1905530  57eb0de17baefbdf95e630d6f81358b2290335138e96aa...  2017-07-07   \n",
       "2578711  76fd09abf4be3489d394c89cbcd3985b1f7257ed2b6fd9...  2017-05-07   \n",
       "\n",
       "              P_2      D_39       B_1       B_2       R_1       S_3      D_41  \\\n",
       "650470   0.643555  0.270996  0.011101  1.007812  0.008347  0.126465  0.122009   \n",
       "3689326  0.543945  0.355713  0.443359  0.025558  0.003366  0.216064  0.006668   \n",
       "5011625  0.894531  0.416504  0.033051  1.000977  0.007790  0.150391  0.002085   \n",
       "3241525  0.772461  0.003546  0.025269  0.813965  0.005962  0.057709  0.004494   \n",
       "1552740  0.672852  0.183716  0.041779  1.003906  0.001216  0.350342  0.009979   \n",
       "...           ...       ...       ...       ...       ...       ...       ...   \n",
       "2261263  0.426514  0.002314  0.005577  0.815918  0.003101 -1.000000  0.003685   \n",
       "3688365  0.486084  0.008377  0.003860  0.810059  0.008347 -1.000000  0.000150   \n",
       "1728331  0.223022  0.005001  0.110107  0.485352  1.003906  0.951660  0.009895   \n",
       "1905530  0.854004  0.271729  1.101562  1.000977  0.007046  0.075867  0.007343   \n",
       "2578711  0.609375  0.360352  0.703125  0.023880  0.007423  0.125732  0.009361   \n",
       "\n",
       "              B_3  ...  D_137  D_138     D_139     D_140     D_141     D_142  \\\n",
       "650470   0.006149  ...   -1.0   -1.0  0.009758  0.008209  0.008629 -1.000000   \n",
       "3689326  0.739258  ...   -1.0   -1.0  0.005718  0.004761  0.007889 -1.000000   \n",
       "5011625  0.006393  ...   -1.0   -1.0  0.002041  0.007996  0.002890 -1.000000   \n",
       "3241525  0.011116  ...   -1.0   -1.0  0.005867  0.007202  0.005505 -1.000000   \n",
       "1552740  0.008041  ...   -1.0   -1.0  0.003824  0.007252  0.004658 -1.000000   \n",
       "...           ...  ...    ...    ...       ...       ...       ...       ...   \n",
       "2261263  0.000048  ...   -1.0   -1.0  1.009766  0.000230  0.867676  0.039795   \n",
       "3688365  0.003393  ...   -1.0   -1.0  0.007183  0.009125  0.008011 -1.000000   \n",
       "1728331  0.022903  ...   -1.0   -1.0  0.007763  0.002855  0.004528 -1.000000   \n",
       "1905530  0.001590  ...   -1.0   -1.0  0.008957  0.002771  0.002815 -1.000000   \n",
       "2578711  0.528320  ...   -1.0   -1.0  0.003899  0.009033  0.003651 -1.000000   \n",
       "\n",
       "            D_143     D_144     D_145  target  \n",
       "650470   0.000362  0.003223  0.001394     0.0  \n",
       "3689326  0.000877  0.000265  0.000416     1.0  \n",
       "5011625  0.005955  0.004543  0.008514     0.0  \n",
       "3241525  0.007412  0.005386  0.004082     0.0  \n",
       "1552740  0.009514  0.001801  0.006798     0.0  \n",
       "...           ...       ...       ...     ...  \n",
       "2261263  1.004883  0.004978  0.098755     0.0  \n",
       "3688365  0.008774  0.008247  0.002357     0.0  \n",
       "1728331  0.008896  0.004955  0.008965     1.0  \n",
       "1905530  0.000754  0.002644  0.005783     0.0  \n",
       "2578711  0.009460  0.009239  0.008804     1.0  \n",
       "\n",
       "[4425160 rows x 191 columns]"
      ]
     },
     "execution_count": 102,
     "metadata": {},
     "output_type": "execute_result"
    }
   ],
   "source": [
    "#!c1.8\n",
    "train.fillna(-1)"
   ]
  },
  {
   "cell_type": "code",
   "execution_count": 43,
   "id": "5aed48b3",
   "metadata": {
    "cellId": "z3h6bg10sj2ef1exlkq7o"
   },
   "outputs": [],
   "source": [
    "#!c1.8\n",
    "train,val  = train_test_split(df,test_size=0.2,stratify=df['target'])"
   ]
  },
  {
   "cell_type": "code",
   "execution_count": 123,
   "id": "f0eeeb9b",
   "metadata": {
    "cellId": "4dwzds9tqak9fw7dkqqwt5"
   },
   "outputs": [],
   "source": [
    "#!c1.8\n",
    "for i in range(len(CAT_COLUMNS)):\n",
    "    train[CAT_COLUMNS[i]]=[str(j)  for j in train[CAT_COLUMNS[i]]]\n",
    "    val[CAT_COLUMNS[i]]=[str(j)  for j in val[CAT_COLUMNS[i]]]"
   ]
  },
  {
   "cell_type": "code",
   "execution_count": 106,
   "id": "59a3396c",
   "metadata": {
    "cellId": "y931qltg6vrn667m1rkid"
   },
   "outputs": [
    {
     "ename": "TypeError",
     "evalue": "list indices must be integers or slices, not str",
     "output_type": "error",
     "traceback": [
      "\u001b[0;31m---------------------------------------------------------------------------\u001b[0m",
      "\u001b[0;31mTypeError\u001b[0m                                 Traceback (most recent call last)",
      "\u001b[0;32m<ipython-input-9-319dbaf5a9fa>\u001b[0m in \u001b[0;36m<module>\u001b[0;34m\u001b[0m\n\u001b[1;32m      1\u001b[0m \u001b[0;32mfor\u001b[0m \u001b[0mi\u001b[0m \u001b[0;32min\u001b[0m \u001b[0;34m[\u001b[0m\u001b[0;34m'target'\u001b[0m\u001b[0;34m]\u001b[0m\u001b[0;34m:\u001b[0m\u001b[0;34m\u001b[0m\u001b[0;34m\u001b[0m\u001b[0m\n\u001b[0;32m----> 2\u001b[0;31m     \u001b[0mtrain\u001b[0m\u001b[0;34m[\u001b[0m\u001b[0mCAT_COLUMNS\u001b[0m\u001b[0;34m[\u001b[0m\u001b[0mi\u001b[0m\u001b[0;34m]\u001b[0m\u001b[0;34m]\u001b[0m\u001b[0;34m=\u001b[0m\u001b[0;34m[\u001b[0m\u001b[0;34m(\u001b[0m\u001b[0mnp\u001b[0m\u001b[0;34m.\u001b[0m\u001b[0mint\u001b[0m\u001b[0;34m(\u001b[0m\u001b[0mi\u001b[0m\u001b[0;34m)\u001b[0m \u001b[0;32mif\u001b[0m \u001b[0;32mnot\u001b[0m \u001b[0mnp\u001b[0m\u001b[0;34m.\u001b[0m\u001b[0misnan\u001b[0m\u001b[0;34m(\u001b[0m\u001b[0mi\u001b[0m\u001b[0;34m)\u001b[0m \u001b[0;32melse\u001b[0m \u001b[0;34m'nan'\u001b[0m \u001b[0;34m)\u001b[0m \u001b[0;32mfor\u001b[0m \u001b[0mi\u001b[0m \u001b[0;32min\u001b[0m \u001b[0mtrain\u001b[0m\u001b[0;34m[\u001b[0m\u001b[0mCAT_COLUMNS\u001b[0m\u001b[0;34m[\u001b[0m\u001b[0mi\u001b[0m\u001b[0;34m]\u001b[0m\u001b[0;34m]\u001b[0m\u001b[0;34m]\u001b[0m\u001b[0;34m\u001b[0m\u001b[0;34m\u001b[0m\u001b[0m\n\u001b[0m\u001b[1;32m      3\u001b[0m     \u001b[0mval\u001b[0m\u001b[0;34m[\u001b[0m\u001b[0mCAT_COLUMNS\u001b[0m\u001b[0;34m[\u001b[0m\u001b[0mi\u001b[0m\u001b[0;34m]\u001b[0m\u001b[0;34m]\u001b[0m\u001b[0;34m=\u001b[0m\u001b[0;34m[\u001b[0m\u001b[0;34m(\u001b[0m\u001b[0mnp\u001b[0m\u001b[0;34m.\u001b[0m\u001b[0mint\u001b[0m\u001b[0;34m(\u001b[0m\u001b[0mi\u001b[0m\u001b[0;34m)\u001b[0m \u001b[0;32mif\u001b[0m \u001b[0;32mnot\u001b[0m \u001b[0mnp\u001b[0m\u001b[0;34m.\u001b[0m\u001b[0misnan\u001b[0m\u001b[0;34m(\u001b[0m\u001b[0mi\u001b[0m\u001b[0;34m)\u001b[0m \u001b[0;32melse\u001b[0m \u001b[0;34m'nan'\u001b[0m \u001b[0;34m)\u001b[0m \u001b[0;32mfor\u001b[0m \u001b[0mi\u001b[0m \u001b[0;32min\u001b[0m \u001b[0mval\u001b[0m\u001b[0;34m[\u001b[0m\u001b[0mCAT_COLUMNS\u001b[0m\u001b[0;34m[\u001b[0m\u001b[0mi\u001b[0m\u001b[0;34m]\u001b[0m\u001b[0;34m]\u001b[0m\u001b[0;34m]\u001b[0m\u001b[0;34m\u001b[0m\u001b[0;34m\u001b[0m\u001b[0m\n\u001b[1;32m      4\u001b[0m \u001b[0;31m#\u001b[0m\u001b[0;34m\u001b[0m\u001b[0;34m\u001b[0m\u001b[0;34m\u001b[0m\u001b[0m\n",
      "\u001b[0;31mTypeError\u001b[0m: list indices must be integers or slices, not str"
     ]
    }
   ],
   "source": [
    "#!c1.8\n",
    "for i in [ ]:\n",
    "    train[CAT_COLUMNS[i]]=[(np.int(i) if not np.isnan(i) else 'nan' ) for i in train[CAT_COLUMNS[i]]]\n",
    "    val[CAT_COLUMNS[i]]=[(np.int(i) if not np.isnan(i) else 'nan' ) for i in val[CAT_COLUMNS[i]]]"
   ]
  },
  {
   "cell_type": "code",
   "execution_count": 107,
   "id": "3d7c29b9",
   "metadata": {
    "cellId": "qg889r96db1poifx4w6k6"
   },
   "outputs": [],
   "source": [
    "#!c1.8\n",
    "\n",
    "train['target']=[(np.int(i) if not np.isnan(i) else 'nan' ) for i in train['target']]\n",
    "val['target']=[(np.int(i) if not np.isnan(i) else 'nan' ) for i in val['target']]"
   ]
  },
  {
   "cell_type": "code",
   "execution_count": 105,
   "id": "579e8cab",
   "metadata": {
    "cellId": "aylkwsrhhrnlnau7mjobq"
   },
   "outputs": [
    {
     "ename": "TypeError",
     "evalue": "cannot convert the series to <class 'int'>",
     "output_type": "error",
     "traceback": [
      "\u001b[0;31m---------------------------------------------------------------------------\u001b[0m",
      "\u001b[0;31mTypeError\u001b[0m                                 Traceback (most recent call last)",
      "\u001b[0;32m<ipython-input-8-92d9ca0727d9>\u001b[0m in \u001b[0;36m<module>\u001b[0;34m\u001b[0m\n\u001b[0;32m----> 1\u001b[0;31m \u001b[0mtrain\u001b[0m\u001b[0;34m[\u001b[0m\u001b[0;34m'target'\u001b[0m\u001b[0;34m]\u001b[0m\u001b[0;34m=\u001b[0m\u001b[0mnp\u001b[0m\u001b[0;34m.\u001b[0m\u001b[0mint\u001b[0m\u001b[0;34m(\u001b[0m\u001b[0mtrain\u001b[0m\u001b[0;34m[\u001b[0m\u001b[0;34m'target'\u001b[0m\u001b[0;34m]\u001b[0m\u001b[0;34m)\u001b[0m\u001b[0;34m\u001b[0m\u001b[0;34m\u001b[0m\u001b[0m\n\u001b[0m\u001b[1;32m      2\u001b[0m \u001b[0;31m#\u001b[0m\u001b[0;34m\u001b[0m\u001b[0;34m\u001b[0m\u001b[0;34m\u001b[0m\u001b[0m\n",
      "\u001b[0;32m/usr/local/lib/python3.8/dist-packages/pandas/core/series.py\u001b[0m in \u001b[0;36mwrapper\u001b[0;34m(self)\u001b[0m\n\u001b[1;32m    129\u001b[0m         \u001b[0;32mif\u001b[0m \u001b[0mlen\u001b[0m\u001b[0;34m(\u001b[0m\u001b[0mself\u001b[0m\u001b[0;34m)\u001b[0m \u001b[0;34m==\u001b[0m \u001b[0;36m1\u001b[0m\u001b[0;34m:\u001b[0m\u001b[0;34m\u001b[0m\u001b[0;34m\u001b[0m\u001b[0m\n\u001b[1;32m    130\u001b[0m             \u001b[0;32mreturn\u001b[0m \u001b[0mconverter\u001b[0m\u001b[0;34m(\u001b[0m\u001b[0mself\u001b[0m\u001b[0;34m.\u001b[0m\u001b[0miloc\u001b[0m\u001b[0;34m[\u001b[0m\u001b[0;36m0\u001b[0m\u001b[0;34m]\u001b[0m\u001b[0;34m)\u001b[0m\u001b[0;34m\u001b[0m\u001b[0;34m\u001b[0m\u001b[0m\n\u001b[0;32m--> 131\u001b[0;31m         \u001b[0;32mraise\u001b[0m \u001b[0mTypeError\u001b[0m\u001b[0;34m(\u001b[0m\u001b[0;34m\"cannot convert the series to \"\u001b[0m \u001b[0;34m\"{0}\"\u001b[0m\u001b[0;34m.\u001b[0m\u001b[0mformat\u001b[0m\u001b[0;34m(\u001b[0m\u001b[0mstr\u001b[0m\u001b[0;34m(\u001b[0m\u001b[0mconverter\u001b[0m\u001b[0;34m)\u001b[0m\u001b[0;34m)\u001b[0m\u001b[0;34m)\u001b[0m\u001b[0;34m\u001b[0m\u001b[0;34m\u001b[0m\u001b[0m\n\u001b[0m\u001b[1;32m    132\u001b[0m \u001b[0;34m\u001b[0m\u001b[0m\n\u001b[1;32m    133\u001b[0m     \u001b[0mwrapper\u001b[0m\u001b[0;34m.\u001b[0m\u001b[0m__name__\u001b[0m \u001b[0;34m=\u001b[0m \u001b[0;34m\"__{name}__\"\u001b[0m\u001b[0;34m.\u001b[0m\u001b[0mformat\u001b[0m\u001b[0;34m(\u001b[0m\u001b[0mname\u001b[0m\u001b[0;34m=\u001b[0m\u001b[0mconverter\u001b[0m\u001b[0;34m.\u001b[0m\u001b[0m__name__\u001b[0m\u001b[0;34m)\u001b[0m\u001b[0;34m\u001b[0m\u001b[0;34m\u001b[0m\u001b[0m\n",
      "\u001b[0;31mTypeError\u001b[0m: cannot convert the series to <class 'int'>"
     ]
    }
   ],
   "source": [
    "#!c1.8\n",
    "train['target']=np.int(train['target'])"
   ]
  },
  {
   "cell_type": "code",
   "execution_count": 119,
   "id": "0b8662d2",
   "metadata": {
    "cellId": "sfaesoq28bn2knlz7gdq6r"
   },
   "outputs": [
    {
     "name": "stdout",
     "output_type": "stream",
     "text": [
      "0      3768367\n",
      "1       611449\n",
      "2        43735\n",
      "nan       1609\n",
      "Name: B_30, dtype: int64\n",
      "2      1562364\n",
      "3      1004100\n",
      "1       928599\n",
      "5       355740\n",
      "4       236156\n",
      "7       207075\n",
      "6       129517\n",
      "nan       1609\n",
      "Name: B_38, dtype: int64\n",
      "1      2653304\n",
      "0      1630263\n",
      "nan     141593\n",
      "Name: D_114, dtype: int64\n",
      "0      4278286\n",
      "nan     141593\n",
      "1         5281\n",
      "Name: D_116, dtype: int64\n",
      "-1     1164728\n",
      "3       933127\n",
      "4       911182\n",
      "2       533145\n",
      "5       367937\n",
      "6       275347\n",
      "nan     141593\n",
      "1        98101\n",
      "Name: D_117, dtype: int64\n",
      "0      3783944\n",
      "1       499623\n",
      "nan     141593\n",
      "Name: D_120, dtype: int64\n",
      "1      3409824\n",
      "0       713231\n",
      "-1      208548\n",
      "nan      93557\n",
      "Name: D_126, dtype: int64\n",
      "CO    3295591\n",
      "CR     744276\n",
      "CL     350676\n",
      "XZ      20590\n",
      "XM       8476\n",
      "XL       5551\n",
      "Name: D_63, dtype: int64\n",
      "O     2330489\n",
      "U     1218227\n",
      "R      672386\n",
      "-1      29803\n",
      "Name: D_64, dtype: int64\n",
      "nan    3926437\n",
      "1       493665\n",
      "0         5058\n",
      "Name: D_66, dtype: int64\n",
      "6      2226571\n",
      "5       960760\n",
      "3       387701\n",
      "4       381559\n",
      "2       176167\n",
      "nan     173440\n",
      "1       106254\n",
      "0        12708\n",
      "Name: D_68, dtype: int64\n"
     ]
    }
   ],
   "source": [
    "#!c1.8\n",
    "for i in CAT_COLUMNS:\n",
    "    print(train[i].value_counts())"
   ]
  },
  {
   "cell_type": "code",
   "execution_count": 98,
   "id": "db7fea8a",
   "metadata": {
    "cellId": "jqg4y32atusz6gt74gf3"
   },
   "outputs": [],
   "source": [
    "#!c1.8\n",
    "model = CatBoostClassifier(random_seed=42,\n",
    "                           iterations=10000,\n",
    "                           learning_rate=0.02,\n",
    "                           l2_leaf_reg=3,\n",
    "                           depth=5,\n",
    "                           #task_type=\"GPU\", # раскомментить, когда с GPU\n",
    "                           thread_count=-1,\n",
    "                           use_best_model=True,\n",
    "                           leaf_estimation_method='Newton',\n",
    "                           custom_loss=[ 'AUC'],\n",
    "                           nan_mode='Min'\n",
    "\n",
    "                          )\n",
    "\n"
   ]
  },
  {
   "cell_type": "code",
   "execution_count": null,
   "id": "00c71155",
   "metadata": {
    "cellId": "ugc2xte6msf3xtwdsr8zph",
    "execution_id": "8ded28db-9a4b-4234-bee2-e176301969f1"
   },
   "outputs": [
    {
     "name": "stdout",
     "output_type": "stream",
     "text": [
      "0:\tlearn: 0.6726585\ttest: 0.6726691\tbest: 0.6726691 (0)\ttotal: 3.39s\tremaining: 9h 25m 3s\n"
     ]
    }
   ],
   "source": [
    "#!c1.8\n",
    "model.fit(train[catboost_features], train['target'],\n",
    "                    cat_features = CAT_COLUMNS,\n",
    "                    eval_set=(val[catboost_features], val['target']),\n",
    "                    verbose=500, plot=False, early_stopping_rounds=600\n",
    "         )\n",
    "\n",
    "print(model.get_best_score())"
   ]
  },
  {
   "cell_type": "code",
   "execution_count": 104,
   "id": "922badf3",
   "metadata": {
    "cellId": "0blt00827cu62t1kuquk32g"
   },
   "outputs": [
    {
     "data": {
      "text/plain": [
       "0.0    3322865\n",
       "1.0    1102295\n",
       "Name: target, dtype: int64"
      ]
     },
     "execution_count": 104,
     "metadata": {},
     "output_type": "execute_result"
    }
   ],
   "source": [
    "#!c1.8\n",
    "train['target'].value_counts()"
   ]
  },
  {
   "cell_type": "code",
   "execution_count": null,
   "id": "c0dda6e7",
   "metadata": {
    "cellId": "1tkpx82vevjhc2soo5qmn"
   },
   "outputs": [],
   "source": [
    "#!c1.8\n"
   ]
  },
  {
   "cell_type": "code",
   "execution_count": null,
   "id": "a72a3f4c",
   "metadata": {
    "cellId": "1u38u6mvrkquug3su91sn8"
   },
   "outputs": [],
   "source": [
    "#!c1.8\n",
    "train.head()"
   ]
  },
  {
   "cell_type": "code",
   "execution_count": null,
   "id": "d093b4b6",
   "metadata": {
    "cellId": "z646vyrbc96dhpsnkj1b6"
   },
   "outputs": [],
   "source": [
    "#!c1.8\n"
   ]
  }
 ],
 "metadata": {
  "language_info": {
   "codemirror_mode": {
    "name": "ipython",
    "version": 3
   },
   "file_extension": ".py",
   "mimetype": "text/x-python",
   "name": "python",
   "nbconvert_exporter": "python",
   "pygments_lexer": "ipython3",
   "version": "3.7.7"
  },
  "notebookId": "6cc57011-f057-40c7-bf1e-97b760905b2d",
  "notebookPath": "Untitled.ipynb"
 },
 "nbformat": 4,
 "nbformat_minor": 5
}
