{
 "cells": [
  {
   "cell_type": "code",
   "execution_count": 2,
   "id": "224fceae",
   "metadata": {
    "cellId": "col86k8k4pqb5h63kl83l"
   },
   "outputs": [
    {
     "name": "stderr",
     "output_type": "stream",
     "text": [
      "--2022-08-13 08:13:19--  https://www.kaggle.com/competitions/amex-default-prediction/data?select=train_data.csv\n",
      "Resolving www.kaggle.com (www.kaggle.com)... 35.244.233.98\n",
      "Connecting to www.kaggle.com (www.kaggle.com)|35.244.233.98|:443... connected.\n",
      "HTTP request sent, awaiting response... 200 OK\n",
      "Length: unspecified [text/html]\n",
      "Saving to: ‘data?select=train_data.csv.1’\n",
      "\n",
      "     0K .......... .......... .......... .......... ........    300K=0.2s\n",
      "\n",
      "2022-08-13 08:13:20 (300 KB/s) - ‘data?select=train_data.csv.1’ saved [50064]\n",
      "\n"
     ]
    }
   ],
   "source": [
    "!wget https://www.kaggle.com/competitions/amex-default-prediction/data?select=train_data.csv"
   ]
  },
  {
   "cell_type": "code",
   "execution_count": null,
   "id": "3962414c",
   "metadata": {
    "cellId": "slhrqr6gjc926hj31o0xyj"
   },
   "outputs": [],
   "source": [
    "%pip install catboost -U"
   ]
  },
  {
   "cell_type": "code",
   "execution_count": 204,
   "id": "63028eba",
   "metadata": {
    "cellId": "ox4fwun6w4pjzube63mj9o"
   },
   "outputs": [],
   "source": [
    "!cat test1/test_data.zip* > ~/test.zip"
   ]
  },
  {
   "cell_type": "code",
   "execution_count": 218,
   "id": "d5041664",
   "metadata": {
    "cellId": "28dsy9qdw7gcnyrsdorho5"
   },
   "outputs": [
    {
     "name": "stdout",
     "output_type": "stream",
     "text": [
      "Archive:  test_data.csv.zip\n",
      "  inflating: test_data.csv           \n"
     ]
    }
   ],
   "source": [
    "!unzip 'test_data.csv.zip'"
   ]
  },
  {
   "cell_type": "raw",
   "id": "0e4ead72",
   "metadata": {
    "cellId": "udzkno3q4r96o1kutu72n6"
   },
   "source": [
    "!7z x 'test1/test_data.zip' -y"
   ]
  },
  {
   "cell_type": "code",
   "execution_count": 31,
   "id": "601a2b54",
   "metadata": {
    "cellId": "253blhvnowtsw3d7rfuhy"
   },
   "outputs": [],
   "source": [
    "import numpy as np # linear algebra\n",
    "import pandas as pd\n",
    "import joblib\n",
    "import datetime\n",
    "from sklearn.model_selection import KFold, StratifiedKFold, cross_val_score\n",
    "import copy\n",
    "import gc\n",
    "\n",
    "from scipy.sparse import csr_matrix\n",
    "from sklearn.experimental import enable_iterative_imputer\n",
    "from sklearn.impute import IterativeImputer\n",
    "from sklearn.model_selection import StratifiedKFold\n",
    "from sklearn.neighbors import KNeighborsClassifier\n",
    "from sklearn.metrics import accuracy_score\n",
    "from sklearn.linear_model import LinearRegression\n",
    "from sklearn.metrics import mean_squared_error\n",
    "import os\n",
    "import time\n",
    "\n",
    "# Essential DS libraries\n",
    "import numpy as np\n",
    "import pandas as pd\n",
    "from sklearn.metrics import roc_auc_score\n",
    "from sklearn.model_selection import train_test_split\n",
    "import torch\n",
    "from catboost import CatBoostClassifier\n",
    "from catboost import Pool, cv\n",
    "from sklearn.preprocessing import LabelEncoder\n",
    "import tqdm\n",
    "\n",
    "from sklearn.linear_model import LogisticRegression\n",
    "import torch.nn.functional as F\n",
    "import math\n",
    "\n",
    "import torch\n",
    "import pandas as pd\n",
    "import torch.nn as nn\n",
    "from torch.autograd import Variable\n",
    "#from tqdm.notebook import tqdm\n",
    "from sklearn.metrics import roc_auc_score\n",
    "import random\n",
    "import torch\n",
    "import pandas as pd\n",
    "import torch.nn as nn\n",
    "from torch.autograd import Variable\n",
    "#from tqdm.notebook import tqdm\n",
    "from sklearn.metrics import roc_auc_score\n",
    "import random\n",
    "torch.manual_seed(42)\n",
    "random.seed(42)\n",
    "np.random.seed(42)\n",
    "torch.cuda.manual_seed(42)\n",
    "torch.cuda.manual_seed_all(42)\n",
    "rng = np.random.default_rng(seed=42)"
   ]
  },
  {
   "cell_type": "code",
   "execution_count": 157,
   "id": "9b59dc3b",
   "metadata": {
    "cellId": "xi7ot8viean6njz30a64f"
   },
   "outputs": [],
   "source": [
    "#!c1.8\n",
    "df=[]\n",
    "for i in range(1,23):\n",
    "    path=f'Test/{i}.parquet'\n",
    "    df.append(pd.read_parquet(path))\n",
    "    \n",
    "test=pd.concat(df)"
   ]
  },
  {
   "cell_type": "code",
   "execution_count": 222,
   "id": "ef485d5a",
   "metadata": {
    "cellId": "mzptwwwwrygzs0mvw0mi1"
   },
   "outputs": [
    {
     "ename": "\u001b[0;31mKernelOutOfMemory\u001b[0m",
     "evalue": "Kernel ran out of memory and has been restarted. If the restart fails, restart the kernel from the Kernel menu.\nIf the error persists, try choosing a different configuration or optimizing your code.",
     "output_type": "error",
     "traceback": []
    }
   ],
   "source": [
    "#!c1.8\n",
    "test=pd.read_csv('test_data.csv')"
   ]
  },
  {
   "cell_type": "code",
   "execution_count": 227,
   "id": "20a63d19",
   "metadata": {
    "cellId": "6g9v4mcfwgb3id19n6k5fa"
   },
   "outputs": [
    {
     "name": "stdout",
     "output_type": "stream",
     "text": [
      "chunksize= 3000000.0\n",
      "===\n",
      "===\n",
      "===\n",
      "===\n"
     ]
    },
    {
     "name": "stderr",
     "output_type": "stream",
     "text": [
      "/kernel/lib/python3.8/site-packages/ml_kernel/kernel.py:873: UserWarning: The following variables cannot be serialized: reader\n",
      "  warnings.warn(message)\n"
     ]
    }
   ],
   "source": [
    "#!c1.8\n",
    "chunksize = 3e6\n",
    "print('chunksize=', chunksize)\n",
    "test=[]\n",
    "def process_big_csv(chunk, dest_file):\n",
    "    print('===')\n",
    "    #---convert float64 to float32--------\n",
    "    float64_cols = chunk.select_dtypes(include=['float64']).columns.tolist()\n",
    "    chunk[float64_cols] = np.float16(chunk[float64_cols].values)\n",
    "    #---convert int64 to int32\n",
    "    int64_cols = chunk.select_dtypes(include=['int64']).columns.tolist()\n",
    "    chunk[int64_cols] = np.int32(chunk[int64_cols].values)\n",
    "    \n",
    "    #-- save to parquet file\n",
    "#     table = pa.Table.from_pandas(chunk)\n",
    "#     pq.write_table(table, dest_file, compression = 'GZIP')\n",
    "    \n",
    "    test.append(chunk)\n",
    "    gc.collect()\n",
    "\n",
    "test_file = 'test_data.csv'\n",
    "\n",
    "with open(test_file, 'r') as csv_file:\n",
    "    reader= pd.read_csv(csv_file, chunksize=chunksize) \n",
    "    for i, chunk in enumerate(reader):\n",
    "        process_big_csv(chunk, \"\")\n",
    "        \n",
    "test=pd.concat(test)"
   ]
  },
  {
   "cell_type": "code",
   "execution_count": null,
   "id": "aeee7408",
   "metadata": {
    "cellId": "rah03vmmohau4thk5tqxt"
   },
   "outputs": [],
   "source": [
    "#!c1.8\n"
   ]
  },
  {
   "cell_type": "code",
   "execution_count": null,
   "id": "83ab6fdc",
   "metadata": {
    "cellId": "hx4zytxcl57ury9zhuys0j"
   },
   "outputs": [],
   "source": [
    "#!c1.8\n"
   ]
  },
  {
   "cell_type": "code",
   "execution_count": 219,
   "id": "c3ec3b86",
   "metadata": {
    "cellId": "ypa94yr5oi9ccl221aiyb"
   },
   "outputs": [
    {
     "data": {
      "text/plain": [
       "dict_keys(['P_2', 'D_39', 'B_1', 'B_2', 'R_1', 'S_3', 'D_41', 'B_3', 'D_42', 'D_43', 'D_44', 'B_4', 'D_45', 'B_5', 'R_2', 'D_46', 'D_47', 'D_48', 'D_49', 'B_6', 'B_7', 'B_8', 'D_50', 'D_51', 'B_9', 'R_3', 'D_52', 'P_3', 'B_10', 'D_53', 'S_5', 'B_11', 'S_6', 'D_54', 'R_4', 'S_7', 'B_12', 'S_8', 'D_55', 'D_56', 'B_13', 'R_5', 'D_58', 'S_9', 'B_14', 'D_59', 'D_60', 'D_61', 'B_15', 'S_11', 'D_62', 'D_65', 'B_16', 'B_17', 'B_18', 'B_19', 'B_20', 'S_12', 'R_6', 'S_13', 'B_21', 'D_69', 'B_22', 'D_70', 'D_71', 'D_72', 'S_15', 'B_23', 'D_73', 'P_4', 'D_74', 'D_75', 'D_76', 'B_24', 'R_7', 'D_77', 'B_25', 'B_26', 'D_78', 'D_79', 'R_8', 'R_9', 'S_16', 'D_80', 'R_10', 'R_11', 'B_27', 'D_81', 'D_82', 'S_17', 'R_12', 'B_28', 'R_13', 'D_83', 'R_14', 'R_15', 'D_84', 'R_16', 'B_29', 'S_18', 'D_86', 'D_87', 'R_17', 'R_18', 'D_88', 'B_31', 'S_19', 'R_19', 'B_32', 'S_20', 'R_20', 'R_21', 'B_33', 'D_89', 'R_22', 'R_23', 'D_91', 'D_92', 'D_93', 'D_94', 'R_24', 'R_25', 'D_96', 'S_22', 'S_23', 'S_24', 'S_25', 'S_26', 'D_102', 'D_103', 'D_104', 'D_105', 'D_106', 'D_107', 'B_36', 'B_37', 'R_26', 'R_27', 'D_108', 'D_109', 'D_110', 'D_111', 'B_39', 'D_112', 'B_40', 'S_27', 'D_113', 'D_115', 'D_118', 'D_119', 'D_121', 'D_122', 'D_123', 'D_124', 'D_125', 'D_127', 'D_128', 'D_129', 'B_41', 'B_42', 'D_130', 'D_131', 'D_132', 'D_133', 'R_28', 'D_134', 'D_135', 'D_136', 'D_137', 'D_138', 'D_139', 'D_140', 'D_141', 'D_142', 'D_143', 'D_144', 'D_145', 'target', 'B_30', 'B_38', 'D_114', 'D_116', 'D_117', 'D_120', 'D_126', 'D_63', 'D_64', 'D_66', 'D_68', 'customer_ID'])"
      ]
     },
     "execution_count": 219,
     "metadata": {},
     "output_type": "execute_result"
    }
   ],
   "source": [
    "#!c1.8\n",
    "dtype.keys()"
   ]
  },
  {
   "cell_type": "code",
   "execution_count": 230,
   "id": "25808934",
   "metadata": {
    "cellId": "fgjmod45mhqbwwejadywp9"
   },
   "outputs": [],
   "source": [
    "#!c1.8\n",
    "for i in dtype.keys():\n",
    "    if i=='target' :continue\n",
    "    if dtype[i]=='float16':\n",
    "        test[i]=np.float16(test[i])"
   ]
  },
  {
   "cell_type": "code",
   "execution_count": 231,
   "id": "a6c45bd8",
   "metadata": {
    "cellId": "07d98f0t9u8ooqp1oin2vul"
   },
   "outputs": [
    {
     "data": {
      "text/plain": [
       "['small_test.sav']"
      ]
     },
     "execution_count": 231,
     "metadata": {},
     "output_type": "execute_result"
    }
   ],
   "source": [
    "#!c1.8\n",
    "joblib.dump(test,'small_test.sav')"
   ]
  },
  {
   "cell_type": "code",
   "execution_count": 160,
   "id": "211558b3",
   "metadata": {
    "cellId": "lx2nq1ii77bx8zvaia9lf"
   },
   "outputs": [
    {
     "data": {
      "text/plain": [
       "2"
      ]
     },
     "execution_count": 160,
     "metadata": {},
     "output_type": "execute_result"
    }
   ],
   "source": [
    "#!c1.8\n",
    "len(test.customer_ID.unique())"
   ]
  },
  {
   "cell_type": "code",
   "execution_count": 22,
   "id": "f01e3a99",
   "metadata": {
    "cellId": "j92q2ta91e8jhh9iyniznd"
   },
   "outputs": [
    {
     "name": "stdout",
     "output_type": "stream",
     "text": [
      "Archive:  train_labels.csv.zip\n",
      "  inflating: train_labels.csv        \n"
     ]
    }
   ],
   "source": [
    "!unzip 'train_labels.csv.zip'"
   ]
  },
  {
   "cell_type": "code",
   "execution_count": 14,
   "id": "bbb89007",
   "metadata": {
    "cellId": "81qsbhdhx2q6emjq4nljos"
   },
   "outputs": [
    {
     "ename": "NameError",
     "evalue": "name 'read_csv' is not defined",
     "output_type": "error",
     "traceback": [
      "\u001b[0;31m---------------------------------------------------------------------------\u001b[0m",
      "\u001b[0;31mNameError\u001b[0m                                 Traceback (most recent call last)",
      "\u001b[0;32m<ipython-input-1-10883eb56876>\u001b[0m in \u001b[0;36m<module>\u001b[0;34m\u001b[0m\n\u001b[0;32m----> 1\u001b[0;31m \u001b[0mdf\u001b[0m\u001b[0;34m=\u001b[0m\u001b[0mread_csv\u001b[0m\u001b[0;34m(\u001b[0m\u001b[0;34m\"train_data.csv\"\u001b[0m\u001b[0;34m)\u001b[0m\u001b[0;34m\u001b[0m\u001b[0;34m\u001b[0m\u001b[0m\n\u001b[0m\u001b[1;32m      2\u001b[0m \u001b[0;31m#\u001b[0m\u001b[0;34m\u001b[0m\u001b[0;34m\u001b[0m\u001b[0;34m\u001b[0m\u001b[0m\n",
      "\u001b[0;31mNameError\u001b[0m: name 'read_csv' is not defined"
     ]
    }
   ],
   "source": [
    "#!c1.8\n",
    "df=read_csv(\"train_data.csv\")"
   ]
  },
  {
   "cell_type": "code",
   "execution_count": 16,
   "id": "2611b88b",
   "metadata": {
    "cellId": "23m0a53k50izf157v0be6n"
   },
   "outputs": [],
   "source": [
    "#!c1.8\n",
    "import pandas as pd"
   ]
  },
  {
   "cell_type": "code",
   "execution_count": 18,
   "id": "a634f6a5",
   "metadata": {
    "cellId": "r6oxlt874n92gmbjusiife"
   },
   "outputs": [],
   "source": [
    "#!c1.8\n",
    "df=pd.read_csv(\"train_data.csv\")"
   ]
  },
  {
   "cell_type": "code",
   "execution_count": 25,
   "id": "25718eca",
   "metadata": {
    "cellId": "paldol43gox9v0a4sgjhb"
   },
   "outputs": [
    {
     "data": {
      "text/html": [
       "<div>\n",
       "<style scoped>\n",
       "    .dataframe tbody tr th:only-of-type {\n",
       "        vertical-align: middle;\n",
       "    }\n",
       "\n",
       "    .dataframe tbody tr th {\n",
       "        vertical-align: top;\n",
       "    }\n",
       "\n",
       "    .dataframe thead th {\n",
       "        text-align: right;\n",
       "    }\n",
       "</style>\n",
       "<table border=\"1\" class=\"dataframe\">\n",
       "  <thead>\n",
       "    <tr style=\"text-align: right;\">\n",
       "      <th></th>\n",
       "      <th>customer_ID</th>\n",
       "      <th>S_2</th>\n",
       "      <th>P_2</th>\n",
       "      <th>D_39</th>\n",
       "      <th>B_1</th>\n",
       "      <th>B_2</th>\n",
       "      <th>R_1</th>\n",
       "      <th>S_3</th>\n",
       "      <th>D_41</th>\n",
       "      <th>B_3</th>\n",
       "      <th>...</th>\n",
       "      <th>D_137</th>\n",
       "      <th>D_138</th>\n",
       "      <th>D_139</th>\n",
       "      <th>D_140</th>\n",
       "      <th>D_141</th>\n",
       "      <th>D_142</th>\n",
       "      <th>D_143</th>\n",
       "      <th>D_144</th>\n",
       "      <th>D_145</th>\n",
       "      <th>target</th>\n",
       "    </tr>\n",
       "  </thead>\n",
       "  <tbody>\n",
       "    <tr>\n",
       "      <th>0</th>\n",
       "      <td>0000099d6bd597052cdcda90ffabf56573fe9d7c79be5f...</td>\n",
       "      <td>2017-03-09</td>\n",
       "      <td>0.938469</td>\n",
       "      <td>0.001733</td>\n",
       "      <td>0.008724</td>\n",
       "      <td>1.006838</td>\n",
       "      <td>0.009228</td>\n",
       "      <td>0.124035</td>\n",
       "      <td>0.008771</td>\n",
       "      <td>0.004709</td>\n",
       "      <td>...</td>\n",
       "      <td>NaN</td>\n",
       "      <td>NaN</td>\n",
       "      <td>0.002427</td>\n",
       "      <td>0.003706</td>\n",
       "      <td>0.003818</td>\n",
       "      <td>NaN</td>\n",
       "      <td>0.000569</td>\n",
       "      <td>0.000610</td>\n",
       "      <td>0.002674</td>\n",
       "      <td>0</td>\n",
       "    </tr>\n",
       "    <tr>\n",
       "      <th>1</th>\n",
       "      <td>0000099d6bd597052cdcda90ffabf56573fe9d7c79be5f...</td>\n",
       "      <td>2017-04-07</td>\n",
       "      <td>0.936665</td>\n",
       "      <td>0.005775</td>\n",
       "      <td>0.004923</td>\n",
       "      <td>1.000653</td>\n",
       "      <td>0.006151</td>\n",
       "      <td>0.126750</td>\n",
       "      <td>0.000798</td>\n",
       "      <td>0.002714</td>\n",
       "      <td>...</td>\n",
       "      <td>NaN</td>\n",
       "      <td>NaN</td>\n",
       "      <td>0.003954</td>\n",
       "      <td>0.003167</td>\n",
       "      <td>0.005032</td>\n",
       "      <td>NaN</td>\n",
       "      <td>0.009576</td>\n",
       "      <td>0.005492</td>\n",
       "      <td>0.009217</td>\n",
       "      <td>0</td>\n",
       "    </tr>\n",
       "    <tr>\n",
       "      <th>2</th>\n",
       "      <td>0000099d6bd597052cdcda90ffabf56573fe9d7c79be5f...</td>\n",
       "      <td>2017-05-28</td>\n",
       "      <td>0.954180</td>\n",
       "      <td>0.091505</td>\n",
       "      <td>0.021655</td>\n",
       "      <td>1.009672</td>\n",
       "      <td>0.006815</td>\n",
       "      <td>0.123977</td>\n",
       "      <td>0.007598</td>\n",
       "      <td>0.009423</td>\n",
       "      <td>...</td>\n",
       "      <td>NaN</td>\n",
       "      <td>NaN</td>\n",
       "      <td>0.003269</td>\n",
       "      <td>0.007329</td>\n",
       "      <td>0.000427</td>\n",
       "      <td>NaN</td>\n",
       "      <td>0.003429</td>\n",
       "      <td>0.006986</td>\n",
       "      <td>0.002603</td>\n",
       "      <td>0</td>\n",
       "    </tr>\n",
       "    <tr>\n",
       "      <th>3</th>\n",
       "      <td>0000099d6bd597052cdcda90ffabf56573fe9d7c79be5f...</td>\n",
       "      <td>2017-06-13</td>\n",
       "      <td>0.960384</td>\n",
       "      <td>0.002455</td>\n",
       "      <td>0.013683</td>\n",
       "      <td>1.002700</td>\n",
       "      <td>0.001373</td>\n",
       "      <td>0.117169</td>\n",
       "      <td>0.000685</td>\n",
       "      <td>0.005531</td>\n",
       "      <td>...</td>\n",
       "      <td>NaN</td>\n",
       "      <td>NaN</td>\n",
       "      <td>0.006117</td>\n",
       "      <td>0.004516</td>\n",
       "      <td>0.003200</td>\n",
       "      <td>NaN</td>\n",
       "      <td>0.008419</td>\n",
       "      <td>0.006527</td>\n",
       "      <td>0.009600</td>\n",
       "      <td>0</td>\n",
       "    </tr>\n",
       "    <tr>\n",
       "      <th>4</th>\n",
       "      <td>0000099d6bd597052cdcda90ffabf56573fe9d7c79be5f...</td>\n",
       "      <td>2017-07-16</td>\n",
       "      <td>0.947248</td>\n",
       "      <td>0.002483</td>\n",
       "      <td>0.015193</td>\n",
       "      <td>1.000727</td>\n",
       "      <td>0.007605</td>\n",
       "      <td>0.117325</td>\n",
       "      <td>0.004653</td>\n",
       "      <td>0.009312</td>\n",
       "      <td>...</td>\n",
       "      <td>NaN</td>\n",
       "      <td>NaN</td>\n",
       "      <td>0.003671</td>\n",
       "      <td>0.004946</td>\n",
       "      <td>0.008889</td>\n",
       "      <td>NaN</td>\n",
       "      <td>0.001670</td>\n",
       "      <td>0.008126</td>\n",
       "      <td>0.009827</td>\n",
       "      <td>0</td>\n",
       "    </tr>\n",
       "  </tbody>\n",
       "</table>\n",
       "<p>5 rows × 191 columns</p>\n",
       "</div>"
      ],
      "text/plain": [
       "                                         customer_ID         S_2       P_2  \\\n",
       "0  0000099d6bd597052cdcda90ffabf56573fe9d7c79be5f...  2017-03-09  0.938469   \n",
       "1  0000099d6bd597052cdcda90ffabf56573fe9d7c79be5f...  2017-04-07  0.936665   \n",
       "2  0000099d6bd597052cdcda90ffabf56573fe9d7c79be5f...  2017-05-28  0.954180   \n",
       "3  0000099d6bd597052cdcda90ffabf56573fe9d7c79be5f...  2017-06-13  0.960384   \n",
       "4  0000099d6bd597052cdcda90ffabf56573fe9d7c79be5f...  2017-07-16  0.947248   \n",
       "\n",
       "       D_39       B_1       B_2       R_1       S_3      D_41       B_3  ...  \\\n",
       "0  0.001733  0.008724  1.006838  0.009228  0.124035  0.008771  0.004709  ...   \n",
       "1  0.005775  0.004923  1.000653  0.006151  0.126750  0.000798  0.002714  ...   \n",
       "2  0.091505  0.021655  1.009672  0.006815  0.123977  0.007598  0.009423  ...   \n",
       "3  0.002455  0.013683  1.002700  0.001373  0.117169  0.000685  0.005531  ...   \n",
       "4  0.002483  0.015193  1.000727  0.007605  0.117325  0.004653  0.009312  ...   \n",
       "\n",
       "   D_137  D_138     D_139     D_140     D_141  D_142     D_143     D_144  \\\n",
       "0    NaN    NaN  0.002427  0.003706  0.003818    NaN  0.000569  0.000610   \n",
       "1    NaN    NaN  0.003954  0.003167  0.005032    NaN  0.009576  0.005492   \n",
       "2    NaN    NaN  0.003269  0.007329  0.000427    NaN  0.003429  0.006986   \n",
       "3    NaN    NaN  0.006117  0.004516  0.003200    NaN  0.008419  0.006527   \n",
       "4    NaN    NaN  0.003671  0.004946  0.008889    NaN  0.001670  0.008126   \n",
       "\n",
       "      D_145  target  \n",
       "0  0.002674       0  \n",
       "1  0.009217       0  \n",
       "2  0.002603       0  \n",
       "3  0.009600       0  \n",
       "4  0.009827       0  \n",
       "\n",
       "[5 rows x 191 columns]"
      ]
     },
     "execution_count": 25,
     "metadata": {},
     "output_type": "execute_result"
    }
   ],
   "source": [
    "#!c1.8\n",
    "df.head()"
   ]
  },
  {
   "cell_type": "code",
   "execution_count": 21,
   "id": "6323e49a",
   "metadata": {
    "cellId": "8jl2jhfvu6d6wuqaldqgh"
   },
   "outputs": [
    {
     "data": {
      "text/plain": [
       "5531451"
      ]
     },
     "execution_count": 21,
     "metadata": {},
     "output_type": "execute_result"
    }
   ],
   "source": [
    "#!c1.8\n",
    "len(df)"
   ]
  },
  {
   "cell_type": "code",
   "execution_count": 23,
   "id": "8d9b4619",
   "metadata": {
    "cellId": "u3g9j85idsgkfokpppypm"
   },
   "outputs": [],
   "source": [
    "#!c1.8\n",
    "labels=pd.read_csv('train_labels.csv')"
   ]
  },
  {
   "cell_type": "code",
   "execution_count": 24,
   "id": "ea73dd61",
   "metadata": {
    "cellId": "tfbo6tsob49yp80iwzln9"
   },
   "outputs": [],
   "source": [
    "#!c1.8\n",
    "df=df.merge(labels, how='left',left_on='customer_ID',right_on='customer_ID')"
   ]
  },
  {
   "cell_type": "code",
   "execution_count": 26,
   "id": "e24ac4be",
   "metadata": {
    "cellId": "ja7eyv0ww6ninu6eyxr9s"
   },
   "outputs": [
    {
     "name": "stdout",
     "output_type": "stream",
     "text": [
      "<class 'pandas.core.frame.DataFrame'>\n",
      "Int64Index: 5531451 entries, 0 to 5531450\n",
      "Columns: 191 entries, customer_ID to target\n",
      "dtypes: float64(185), int64(2), object(4)\n",
      "memory usage: 7.9+ GB\n"
     ]
    }
   ],
   "source": [
    "#!c1.8\n",
    "\n",
    "df.info()\n"
   ]
  },
  {
   "cell_type": "code",
   "execution_count": 27,
   "id": "d92b4911",
   "metadata": {
    "cellId": "52zzzcgbpnx6fz8y1joaje"
   },
   "outputs": [],
   "source": [
    "#!c1.8\n",
    "all_cols = df.columns.to_list()\n",
    "cat_cols = ['B_30', 'B_38', 'D_114', 'D_116', 'D_117', 'D_120', 'D_126', 'D_63', 'D_64', 'D_66', 'D_68']\n",
    "\n",
    "dtype = {col: 'float16' for col in all_cols if col not in (cat_cols + ['customer_ID', 'S_2'])}\n",
    "\n",
    "for col in cat_cols + ['customer_ID']:\n",
    "    dtype[col] = 'category'\n",
    "    \n"
   ]
  },
  {
   "cell_type": "code",
   "execution_count": 32,
   "id": "8d81ef4f",
   "metadata": {
    "cellId": "0oqe6rt0ud2a27a2jpmjzp"
   },
   "outputs": [],
   "source": [
    "#!c1.8\n",
    "for i in dtype.keys():\n",
    "    if dtype[i]=='float16':\n",
    "        df[i]=np.float16(df[i])"
   ]
  },
  {
   "cell_type": "code",
   "execution_count": 33,
   "id": "c5285080",
   "metadata": {
    "cellId": "yvzum6nikwg5xfg7p4vh6j"
   },
   "outputs": [
    {
     "data": {
      "text/plain": [
       "3"
      ]
     },
     "execution_count": 33,
     "metadata": {},
     "output_type": "execute_result"
    }
   ],
   "source": [
    "#!c1.8\n",
    "gc.collect()"
   ]
  },
  {
   "cell_type": "code",
   "execution_count": 34,
   "id": "e31ac953",
   "metadata": {
    "cellId": "vqbakoe9br916o89hi6zj"
   },
   "outputs": [
    {
     "data": {
      "text/plain": [
       "['small_df.sav']"
      ]
     },
     "execution_count": 34,
     "metadata": {},
     "output_type": "execute_result"
    }
   ],
   "source": [
    "#!c1.8\n",
    "joblib.dump(df,'small_df.sav')"
   ]
  },
  {
   "cell_type": "code",
   "execution_count": 49,
   "id": "d6834d6d",
   "metadata": {
    "cellId": "80e4bwm265i3eb46kb2qx7"
   },
   "outputs": [],
   "source": [
    "#!c1.8\n",
    "CAT_COLUMNS = ['B_30', 'B_38', 'D_114', 'D_116', 'D_117', 'D_120', 'D_126', 'D_63', 'D_64', 'D_66', 'D_68']\n",
    "\n",
    "NUMERIC_COLUMNS = [ i for i in dtype.keys() if dtype[i]=='float16']\n",
    "NUMERIC_COLUMNS.remove('target')\n",
    "catboost_features=CAT_COLUMNS+NUMERIC_COLUMNS"
   ]
  },
  {
   "cell_type": "code",
   "execution_count": 102,
   "id": "3965897f",
   "metadata": {
    "cellId": "rw649hc5kyrrxje5heq7c9"
   },
   "outputs": [
    {
     "data": {
      "text/html": [
       "<div>\n",
       "<style scoped>\n",
       "    .dataframe tbody tr th:only-of-type {\n",
       "        vertical-align: middle;\n",
       "    }\n",
       "\n",
       "    .dataframe tbody tr th {\n",
       "        vertical-align: top;\n",
       "    }\n",
       "\n",
       "    .dataframe thead th {\n",
       "        text-align: right;\n",
       "    }\n",
       "</style>\n",
       "<table border=\"1\" class=\"dataframe\">\n",
       "  <thead>\n",
       "    <tr style=\"text-align: right;\">\n",
       "      <th></th>\n",
       "      <th>customer_ID</th>\n",
       "      <th>S_2</th>\n",
       "      <th>P_2</th>\n",
       "      <th>D_39</th>\n",
       "      <th>B_1</th>\n",
       "      <th>B_2</th>\n",
       "      <th>R_1</th>\n",
       "      <th>S_3</th>\n",
       "      <th>D_41</th>\n",
       "      <th>B_3</th>\n",
       "      <th>...</th>\n",
       "      <th>D_137</th>\n",
       "      <th>D_138</th>\n",
       "      <th>D_139</th>\n",
       "      <th>D_140</th>\n",
       "      <th>D_141</th>\n",
       "      <th>D_142</th>\n",
       "      <th>D_143</th>\n",
       "      <th>D_144</th>\n",
       "      <th>D_145</th>\n",
       "      <th>target</th>\n",
       "    </tr>\n",
       "  </thead>\n",
       "  <tbody>\n",
       "    <tr>\n",
       "      <th>650470</th>\n",
       "      <td>1e4a396a77c9f3bc595809716f0570cd4be39685734f48...</td>\n",
       "      <td>2017-08-31</td>\n",
       "      <td>0.643555</td>\n",
       "      <td>0.270996</td>\n",
       "      <td>0.011101</td>\n",
       "      <td>1.007812</td>\n",
       "      <td>0.008347</td>\n",
       "      <td>0.126465</td>\n",
       "      <td>0.122009</td>\n",
       "      <td>0.006149</td>\n",
       "      <td>...</td>\n",
       "      <td>-1.0</td>\n",
       "      <td>-1.0</td>\n",
       "      <td>0.009758</td>\n",
       "      <td>0.008209</td>\n",
       "      <td>0.008629</td>\n",
       "      <td>-1.000000</td>\n",
       "      <td>0.000362</td>\n",
       "      <td>0.003223</td>\n",
       "      <td>0.001394</td>\n",
       "      <td>0.0</td>\n",
       "    </tr>\n",
       "    <tr>\n",
       "      <th>3689326</th>\n",
       "      <td>aa724b2873dadc69e4c02d4d01bdc7573311c3d2caee6f...</td>\n",
       "      <td>2018-03-24</td>\n",
       "      <td>0.543945</td>\n",
       "      <td>0.355713</td>\n",
       "      <td>0.443359</td>\n",
       "      <td>0.025558</td>\n",
       "      <td>0.003366</td>\n",
       "      <td>0.216064</td>\n",
       "      <td>0.006668</td>\n",
       "      <td>0.739258</td>\n",
       "      <td>...</td>\n",
       "      <td>-1.0</td>\n",
       "      <td>-1.0</td>\n",
       "      <td>0.005718</td>\n",
       "      <td>0.004761</td>\n",
       "      <td>0.007889</td>\n",
       "      <td>-1.000000</td>\n",
       "      <td>0.000877</td>\n",
       "      <td>0.000265</td>\n",
       "      <td>0.000416</td>\n",
       "      <td>1.0</td>\n",
       "    </tr>\n",
       "    <tr>\n",
       "      <th>5011625</th>\n",
       "      <td>e7d4c5ef7004b988f21985a290a8eb97f02c4d7c492328...</td>\n",
       "      <td>2017-09-07</td>\n",
       "      <td>0.894531</td>\n",
       "      <td>0.416504</td>\n",
       "      <td>0.033051</td>\n",
       "      <td>1.000977</td>\n",
       "      <td>0.007790</td>\n",
       "      <td>0.150391</td>\n",
       "      <td>0.002085</td>\n",
       "      <td>0.006393</td>\n",
       "      <td>...</td>\n",
       "      <td>-1.0</td>\n",
       "      <td>-1.0</td>\n",
       "      <td>0.002041</td>\n",
       "      <td>0.007996</td>\n",
       "      <td>0.002890</td>\n",
       "      <td>-1.000000</td>\n",
       "      <td>0.005955</td>\n",
       "      <td>0.004543</td>\n",
       "      <td>0.008514</td>\n",
       "      <td>0.0</td>\n",
       "    </tr>\n",
       "    <tr>\n",
       "      <th>3241525</th>\n",
       "      <td>95bd90a0547f8f42a093a0ea442b920eca9bef9e514ce5...</td>\n",
       "      <td>2017-08-14</td>\n",
       "      <td>0.772461</td>\n",
       "      <td>0.003546</td>\n",
       "      <td>0.025269</td>\n",
       "      <td>0.813965</td>\n",
       "      <td>0.005962</td>\n",
       "      <td>0.057709</td>\n",
       "      <td>0.004494</td>\n",
       "      <td>0.011116</td>\n",
       "      <td>...</td>\n",
       "      <td>-1.0</td>\n",
       "      <td>-1.0</td>\n",
       "      <td>0.005867</td>\n",
       "      <td>0.007202</td>\n",
       "      <td>0.005505</td>\n",
       "      <td>-1.000000</td>\n",
       "      <td>0.007412</td>\n",
       "      <td>0.005386</td>\n",
       "      <td>0.004082</td>\n",
       "      <td>0.0</td>\n",
       "    </tr>\n",
       "    <tr>\n",
       "      <th>1552740</th>\n",
       "      <td>47858837194d4c527d2e78b7797fd50f0c534cad7911ef...</td>\n",
       "      <td>2017-05-14</td>\n",
       "      <td>0.672852</td>\n",
       "      <td>0.183716</td>\n",
       "      <td>0.041779</td>\n",
       "      <td>1.003906</td>\n",
       "      <td>0.001216</td>\n",
       "      <td>0.350342</td>\n",
       "      <td>0.009979</td>\n",
       "      <td>0.008041</td>\n",
       "      <td>...</td>\n",
       "      <td>-1.0</td>\n",
       "      <td>-1.0</td>\n",
       "      <td>0.003824</td>\n",
       "      <td>0.007252</td>\n",
       "      <td>0.004658</td>\n",
       "      <td>-1.000000</td>\n",
       "      <td>0.009514</td>\n",
       "      <td>0.001801</td>\n",
       "      <td>0.006798</td>\n",
       "      <td>0.0</td>\n",
       "    </tr>\n",
       "    <tr>\n",
       "      <th>...</th>\n",
       "      <td>...</td>\n",
       "      <td>...</td>\n",
       "      <td>...</td>\n",
       "      <td>...</td>\n",
       "      <td>...</td>\n",
       "      <td>...</td>\n",
       "      <td>...</td>\n",
       "      <td>...</td>\n",
       "      <td>...</td>\n",
       "      <td>...</td>\n",
       "      <td>...</td>\n",
       "      <td>...</td>\n",
       "      <td>...</td>\n",
       "      <td>...</td>\n",
       "      <td>...</td>\n",
       "      <td>...</td>\n",
       "      <td>...</td>\n",
       "      <td>...</td>\n",
       "      <td>...</td>\n",
       "      <td>...</td>\n",
       "      <td>...</td>\n",
       "    </tr>\n",
       "    <tr>\n",
       "      <th>2261263</th>\n",
       "      <td>687c56c38126587e4ee0909b6e232657eabf89d07bd388...</td>\n",
       "      <td>2017-11-18</td>\n",
       "      <td>0.426514</td>\n",
       "      <td>0.002314</td>\n",
       "      <td>0.005577</td>\n",
       "      <td>0.815918</td>\n",
       "      <td>0.003101</td>\n",
       "      <td>-1.000000</td>\n",
       "      <td>0.003685</td>\n",
       "      <td>0.000048</td>\n",
       "      <td>...</td>\n",
       "      <td>-1.0</td>\n",
       "      <td>-1.0</td>\n",
       "      <td>1.009766</td>\n",
       "      <td>0.000230</td>\n",
       "      <td>0.867676</td>\n",
       "      <td>0.039795</td>\n",
       "      <td>1.004883</td>\n",
       "      <td>0.004978</td>\n",
       "      <td>0.098755</td>\n",
       "      <td>0.0</td>\n",
       "    </tr>\n",
       "    <tr>\n",
       "      <th>3688365</th>\n",
       "      <td>aa67270ff22d3c6ee4bab735d3fe9298534b6f0d3ad0a7...</td>\n",
       "      <td>2017-06-08</td>\n",
       "      <td>0.486084</td>\n",
       "      <td>0.008377</td>\n",
       "      <td>0.003860</td>\n",
       "      <td>0.810059</td>\n",
       "      <td>0.008347</td>\n",
       "      <td>-1.000000</td>\n",
       "      <td>0.000150</td>\n",
       "      <td>0.003393</td>\n",
       "      <td>...</td>\n",
       "      <td>-1.0</td>\n",
       "      <td>-1.0</td>\n",
       "      <td>0.007183</td>\n",
       "      <td>0.009125</td>\n",
       "      <td>0.008011</td>\n",
       "      <td>-1.000000</td>\n",
       "      <td>0.008774</td>\n",
       "      <td>0.008247</td>\n",
       "      <td>0.002357</td>\n",
       "      <td>0.0</td>\n",
       "    </tr>\n",
       "    <tr>\n",
       "      <th>1728331</th>\n",
       "      <td>4fc1f1d5b1ed9f35a5b1871a751daaa247778a9eccf562...</td>\n",
       "      <td>2017-10-07</td>\n",
       "      <td>0.223022</td>\n",
       "      <td>0.005001</td>\n",
       "      <td>0.110107</td>\n",
       "      <td>0.485352</td>\n",
       "      <td>1.003906</td>\n",
       "      <td>0.951660</td>\n",
       "      <td>0.009895</td>\n",
       "      <td>0.022903</td>\n",
       "      <td>...</td>\n",
       "      <td>-1.0</td>\n",
       "      <td>-1.0</td>\n",
       "      <td>0.007763</td>\n",
       "      <td>0.002855</td>\n",
       "      <td>0.004528</td>\n",
       "      <td>-1.000000</td>\n",
       "      <td>0.008896</td>\n",
       "      <td>0.004955</td>\n",
       "      <td>0.008965</td>\n",
       "      <td>1.0</td>\n",
       "    </tr>\n",
       "    <tr>\n",
       "      <th>1905530</th>\n",
       "      <td>57eb0de17baefbdf95e630d6f81358b2290335138e96aa...</td>\n",
       "      <td>2017-07-07</td>\n",
       "      <td>0.854004</td>\n",
       "      <td>0.271729</td>\n",
       "      <td>1.101562</td>\n",
       "      <td>1.000977</td>\n",
       "      <td>0.007046</td>\n",
       "      <td>0.075867</td>\n",
       "      <td>0.007343</td>\n",
       "      <td>0.001590</td>\n",
       "      <td>...</td>\n",
       "      <td>-1.0</td>\n",
       "      <td>-1.0</td>\n",
       "      <td>0.008957</td>\n",
       "      <td>0.002771</td>\n",
       "      <td>0.002815</td>\n",
       "      <td>-1.000000</td>\n",
       "      <td>0.000754</td>\n",
       "      <td>0.002644</td>\n",
       "      <td>0.005783</td>\n",
       "      <td>0.0</td>\n",
       "    </tr>\n",
       "    <tr>\n",
       "      <th>2578711</th>\n",
       "      <td>76fd09abf4be3489d394c89cbcd3985b1f7257ed2b6fd9...</td>\n",
       "      <td>2017-05-07</td>\n",
       "      <td>0.609375</td>\n",
       "      <td>0.360352</td>\n",
       "      <td>0.703125</td>\n",
       "      <td>0.023880</td>\n",
       "      <td>0.007423</td>\n",
       "      <td>0.125732</td>\n",
       "      <td>0.009361</td>\n",
       "      <td>0.528320</td>\n",
       "      <td>...</td>\n",
       "      <td>-1.0</td>\n",
       "      <td>-1.0</td>\n",
       "      <td>0.003899</td>\n",
       "      <td>0.009033</td>\n",
       "      <td>0.003651</td>\n",
       "      <td>-1.000000</td>\n",
       "      <td>0.009460</td>\n",
       "      <td>0.009239</td>\n",
       "      <td>0.008804</td>\n",
       "      <td>1.0</td>\n",
       "    </tr>\n",
       "  </tbody>\n",
       "</table>\n",
       "<p>4425160 rows × 191 columns</p>\n",
       "</div>"
      ],
      "text/plain": [
       "                                               customer_ID         S_2  \\\n",
       "650470   1e4a396a77c9f3bc595809716f0570cd4be39685734f48...  2017-08-31   \n",
       "3689326  aa724b2873dadc69e4c02d4d01bdc7573311c3d2caee6f...  2018-03-24   \n",
       "5011625  e7d4c5ef7004b988f21985a290a8eb97f02c4d7c492328...  2017-09-07   \n",
       "3241525  95bd90a0547f8f42a093a0ea442b920eca9bef9e514ce5...  2017-08-14   \n",
       "1552740  47858837194d4c527d2e78b7797fd50f0c534cad7911ef...  2017-05-14   \n",
       "...                                                    ...         ...   \n",
       "2261263  687c56c38126587e4ee0909b6e232657eabf89d07bd388...  2017-11-18   \n",
       "3688365  aa67270ff22d3c6ee4bab735d3fe9298534b6f0d3ad0a7...  2017-06-08   \n",
       "1728331  4fc1f1d5b1ed9f35a5b1871a751daaa247778a9eccf562...  2017-10-07   \n",
       "1905530  57eb0de17baefbdf95e630d6f81358b2290335138e96aa...  2017-07-07   \n",
       "2578711  76fd09abf4be3489d394c89cbcd3985b1f7257ed2b6fd9...  2017-05-07   \n",
       "\n",
       "              P_2      D_39       B_1       B_2       R_1       S_3      D_41  \\\n",
       "650470   0.643555  0.270996  0.011101  1.007812  0.008347  0.126465  0.122009   \n",
       "3689326  0.543945  0.355713  0.443359  0.025558  0.003366  0.216064  0.006668   \n",
       "5011625  0.894531  0.416504  0.033051  1.000977  0.007790  0.150391  0.002085   \n",
       "3241525  0.772461  0.003546  0.025269  0.813965  0.005962  0.057709  0.004494   \n",
       "1552740  0.672852  0.183716  0.041779  1.003906  0.001216  0.350342  0.009979   \n",
       "...           ...       ...       ...       ...       ...       ...       ...   \n",
       "2261263  0.426514  0.002314  0.005577  0.815918  0.003101 -1.000000  0.003685   \n",
       "3688365  0.486084  0.008377  0.003860  0.810059  0.008347 -1.000000  0.000150   \n",
       "1728331  0.223022  0.005001  0.110107  0.485352  1.003906  0.951660  0.009895   \n",
       "1905530  0.854004  0.271729  1.101562  1.000977  0.007046  0.075867  0.007343   \n",
       "2578711  0.609375  0.360352  0.703125  0.023880  0.007423  0.125732  0.009361   \n",
       "\n",
       "              B_3  ...  D_137  D_138     D_139     D_140     D_141     D_142  \\\n",
       "650470   0.006149  ...   -1.0   -1.0  0.009758  0.008209  0.008629 -1.000000   \n",
       "3689326  0.739258  ...   -1.0   -1.0  0.005718  0.004761  0.007889 -1.000000   \n",
       "5011625  0.006393  ...   -1.0   -1.0  0.002041  0.007996  0.002890 -1.000000   \n",
       "3241525  0.011116  ...   -1.0   -1.0  0.005867  0.007202  0.005505 -1.000000   \n",
       "1552740  0.008041  ...   -1.0   -1.0  0.003824  0.007252  0.004658 -1.000000   \n",
       "...           ...  ...    ...    ...       ...       ...       ...       ...   \n",
       "2261263  0.000048  ...   -1.0   -1.0  1.009766  0.000230  0.867676  0.039795   \n",
       "3688365  0.003393  ...   -1.0   -1.0  0.007183  0.009125  0.008011 -1.000000   \n",
       "1728331  0.022903  ...   -1.0   -1.0  0.007763  0.002855  0.004528 -1.000000   \n",
       "1905530  0.001590  ...   -1.0   -1.0  0.008957  0.002771  0.002815 -1.000000   \n",
       "2578711  0.528320  ...   -1.0   -1.0  0.003899  0.009033  0.003651 -1.000000   \n",
       "\n",
       "            D_143     D_144     D_145  target  \n",
       "650470   0.000362  0.003223  0.001394     0.0  \n",
       "3689326  0.000877  0.000265  0.000416     1.0  \n",
       "5011625  0.005955  0.004543  0.008514     0.0  \n",
       "3241525  0.007412  0.005386  0.004082     0.0  \n",
       "1552740  0.009514  0.001801  0.006798     0.0  \n",
       "...           ...       ...       ...     ...  \n",
       "2261263  1.004883  0.004978  0.098755     0.0  \n",
       "3688365  0.008774  0.008247  0.002357     0.0  \n",
       "1728331  0.008896  0.004955  0.008965     1.0  \n",
       "1905530  0.000754  0.002644  0.005783     0.0  \n",
       "2578711  0.009460  0.009239  0.008804     1.0  \n",
       "\n",
       "[4425160 rows x 191 columns]"
      ]
     },
     "execution_count": 102,
     "metadata": {},
     "output_type": "execute_result"
    }
   ],
   "source": [
    "#!c1.8\n",
    "train.fillna(-1)"
   ]
  },
  {
   "cell_type": "code",
   "execution_count": 43,
   "id": "3d65e04d",
   "metadata": {
    "cellId": "z3h6bg10sj2ef1exlkq7o"
   },
   "outputs": [],
   "source": [
    "#!c1.8\n",
    "train,val  = train_test_split(df,test_size=0.2,stratify=df['target'])"
   ]
  },
  {
   "cell_type": "code",
   "execution_count": 123,
   "id": "df604712",
   "metadata": {
    "cellId": "4dwzds9tqak9fw7dkqqwt5"
   },
   "outputs": [],
   "source": [
    "#!c1.8\n",
    "for i in range(len(CAT_COLUMNS)):\n",
    "    train[CAT_COLUMNS[i]]=[str(j)  for j in train[CAT_COLUMNS[i]]]\n",
    "    val[CAT_COLUMNS[i]]=[str(j)  for j in val[CAT_COLUMNS[i]]]"
   ]
  },
  {
   "cell_type": "code",
   "execution_count": 232,
   "id": "f55222c2",
   "metadata": {
    "cellId": "fedxdt9n19e195ifngq1dk"
   },
   "outputs": [],
   "source": [
    "#!c1.8\n",
    "for i in range(len(CAT_COLUMNS)):\n",
    "    test[CAT_COLUMNS[i]]=[str(j)  for j in test[CAT_COLUMNS[i]]]\n",
    "    "
   ]
  },
  {
   "cell_type": "code",
   "execution_count": 106,
   "id": "2c57ba41",
   "metadata": {
    "cellId": "y931qltg6vrn667m1rkid"
   },
   "outputs": [
    {
     "ename": "TypeError",
     "evalue": "list indices must be integers or slices, not str",
     "output_type": "error",
     "traceback": [
      "\u001b[0;31m---------------------------------------------------------------------------\u001b[0m",
      "\u001b[0;31mTypeError\u001b[0m                                 Traceback (most recent call last)",
      "\u001b[0;32m<ipython-input-9-319dbaf5a9fa>\u001b[0m in \u001b[0;36m<module>\u001b[0;34m\u001b[0m\n\u001b[1;32m      1\u001b[0m \u001b[0;32mfor\u001b[0m \u001b[0mi\u001b[0m \u001b[0;32min\u001b[0m \u001b[0;34m[\u001b[0m\u001b[0;34m'target'\u001b[0m\u001b[0;34m]\u001b[0m\u001b[0;34m:\u001b[0m\u001b[0;34m\u001b[0m\u001b[0;34m\u001b[0m\u001b[0m\n\u001b[0;32m----> 2\u001b[0;31m     \u001b[0mtrain\u001b[0m\u001b[0;34m[\u001b[0m\u001b[0mCAT_COLUMNS\u001b[0m\u001b[0;34m[\u001b[0m\u001b[0mi\u001b[0m\u001b[0;34m]\u001b[0m\u001b[0;34m]\u001b[0m\u001b[0;34m=\u001b[0m\u001b[0;34m[\u001b[0m\u001b[0;34m(\u001b[0m\u001b[0mnp\u001b[0m\u001b[0;34m.\u001b[0m\u001b[0mint\u001b[0m\u001b[0;34m(\u001b[0m\u001b[0mi\u001b[0m\u001b[0;34m)\u001b[0m \u001b[0;32mif\u001b[0m \u001b[0;32mnot\u001b[0m \u001b[0mnp\u001b[0m\u001b[0;34m.\u001b[0m\u001b[0misnan\u001b[0m\u001b[0;34m(\u001b[0m\u001b[0mi\u001b[0m\u001b[0;34m)\u001b[0m \u001b[0;32melse\u001b[0m \u001b[0;34m'nan'\u001b[0m \u001b[0;34m)\u001b[0m \u001b[0;32mfor\u001b[0m \u001b[0mi\u001b[0m \u001b[0;32min\u001b[0m \u001b[0mtrain\u001b[0m\u001b[0;34m[\u001b[0m\u001b[0mCAT_COLUMNS\u001b[0m\u001b[0;34m[\u001b[0m\u001b[0mi\u001b[0m\u001b[0;34m]\u001b[0m\u001b[0;34m]\u001b[0m\u001b[0;34m]\u001b[0m\u001b[0;34m\u001b[0m\u001b[0;34m\u001b[0m\u001b[0m\n\u001b[0m\u001b[1;32m      3\u001b[0m     \u001b[0mval\u001b[0m\u001b[0;34m[\u001b[0m\u001b[0mCAT_COLUMNS\u001b[0m\u001b[0;34m[\u001b[0m\u001b[0mi\u001b[0m\u001b[0;34m]\u001b[0m\u001b[0;34m]\u001b[0m\u001b[0;34m=\u001b[0m\u001b[0;34m[\u001b[0m\u001b[0;34m(\u001b[0m\u001b[0mnp\u001b[0m\u001b[0;34m.\u001b[0m\u001b[0mint\u001b[0m\u001b[0;34m(\u001b[0m\u001b[0mi\u001b[0m\u001b[0;34m)\u001b[0m \u001b[0;32mif\u001b[0m \u001b[0;32mnot\u001b[0m \u001b[0mnp\u001b[0m\u001b[0;34m.\u001b[0m\u001b[0misnan\u001b[0m\u001b[0;34m(\u001b[0m\u001b[0mi\u001b[0m\u001b[0;34m)\u001b[0m \u001b[0;32melse\u001b[0m \u001b[0;34m'nan'\u001b[0m \u001b[0;34m)\u001b[0m \u001b[0;32mfor\u001b[0m \u001b[0mi\u001b[0m \u001b[0;32min\u001b[0m \u001b[0mval\u001b[0m\u001b[0;34m[\u001b[0m\u001b[0mCAT_COLUMNS\u001b[0m\u001b[0;34m[\u001b[0m\u001b[0mi\u001b[0m\u001b[0;34m]\u001b[0m\u001b[0;34m]\u001b[0m\u001b[0;34m]\u001b[0m\u001b[0;34m\u001b[0m\u001b[0;34m\u001b[0m\u001b[0m\n\u001b[1;32m      4\u001b[0m \u001b[0;31m#\u001b[0m\u001b[0;34m\u001b[0m\u001b[0;34m\u001b[0m\u001b[0;34m\u001b[0m\u001b[0m\n",
      "\u001b[0;31mTypeError\u001b[0m: list indices must be integers or slices, not str"
     ]
    }
   ],
   "source": [
    "#!c1.8\n",
    "for i in [ ]:\n",
    "    train[CAT_COLUMNS[i]]=[(np.int(i) if not np.isnan(i) else 'nan' ) for i in train[CAT_COLUMNS[i]]]\n",
    "    val[CAT_COLUMNS[i]]=[(np.int(i) if not np.isnan(i) else 'nan' ) for i in val[CAT_COLUMNS[i]]]"
   ]
  },
  {
   "cell_type": "code",
   "execution_count": 107,
   "id": "9c223e35",
   "metadata": {
    "cellId": "qg889r96db1poifx4w6k6"
   },
   "outputs": [],
   "source": [
    "#!c1.8\n",
    "\n",
    "train['target']=[(np.int(i) if not np.isnan(i) else 'nan' ) for i in train['target']]\n",
    "val['target']=[(np.int(i) if not np.isnan(i) else 'nan' ) for i in val['target']]"
   ]
  },
  {
   "cell_type": "code",
   "execution_count": 105,
   "id": "33982c16",
   "metadata": {
    "cellId": "aylkwsrhhrnlnau7mjobq"
   },
   "outputs": [
    {
     "ename": "TypeError",
     "evalue": "cannot convert the series to <class 'int'>",
     "output_type": "error",
     "traceback": [
      "\u001b[0;31m---------------------------------------------------------------------------\u001b[0m",
      "\u001b[0;31mTypeError\u001b[0m                                 Traceback (most recent call last)",
      "\u001b[0;32m<ipython-input-8-92d9ca0727d9>\u001b[0m in \u001b[0;36m<module>\u001b[0;34m\u001b[0m\n\u001b[0;32m----> 1\u001b[0;31m \u001b[0mtrain\u001b[0m\u001b[0;34m[\u001b[0m\u001b[0;34m'target'\u001b[0m\u001b[0;34m]\u001b[0m\u001b[0;34m=\u001b[0m\u001b[0mnp\u001b[0m\u001b[0;34m.\u001b[0m\u001b[0mint\u001b[0m\u001b[0;34m(\u001b[0m\u001b[0mtrain\u001b[0m\u001b[0;34m[\u001b[0m\u001b[0;34m'target'\u001b[0m\u001b[0;34m]\u001b[0m\u001b[0;34m)\u001b[0m\u001b[0;34m\u001b[0m\u001b[0;34m\u001b[0m\u001b[0m\n\u001b[0m\u001b[1;32m      2\u001b[0m \u001b[0;31m#\u001b[0m\u001b[0;34m\u001b[0m\u001b[0;34m\u001b[0m\u001b[0;34m\u001b[0m\u001b[0m\n",
      "\u001b[0;32m/usr/local/lib/python3.8/dist-packages/pandas/core/series.py\u001b[0m in \u001b[0;36mwrapper\u001b[0;34m(self)\u001b[0m\n\u001b[1;32m    129\u001b[0m         \u001b[0;32mif\u001b[0m \u001b[0mlen\u001b[0m\u001b[0;34m(\u001b[0m\u001b[0mself\u001b[0m\u001b[0;34m)\u001b[0m \u001b[0;34m==\u001b[0m \u001b[0;36m1\u001b[0m\u001b[0;34m:\u001b[0m\u001b[0;34m\u001b[0m\u001b[0;34m\u001b[0m\u001b[0m\n\u001b[1;32m    130\u001b[0m             \u001b[0;32mreturn\u001b[0m \u001b[0mconverter\u001b[0m\u001b[0;34m(\u001b[0m\u001b[0mself\u001b[0m\u001b[0;34m.\u001b[0m\u001b[0miloc\u001b[0m\u001b[0;34m[\u001b[0m\u001b[0;36m0\u001b[0m\u001b[0;34m]\u001b[0m\u001b[0;34m)\u001b[0m\u001b[0;34m\u001b[0m\u001b[0;34m\u001b[0m\u001b[0m\n\u001b[0;32m--> 131\u001b[0;31m         \u001b[0;32mraise\u001b[0m \u001b[0mTypeError\u001b[0m\u001b[0;34m(\u001b[0m\u001b[0;34m\"cannot convert the series to \"\u001b[0m \u001b[0;34m\"{0}\"\u001b[0m\u001b[0;34m.\u001b[0m\u001b[0mformat\u001b[0m\u001b[0;34m(\u001b[0m\u001b[0mstr\u001b[0m\u001b[0;34m(\u001b[0m\u001b[0mconverter\u001b[0m\u001b[0;34m)\u001b[0m\u001b[0;34m)\u001b[0m\u001b[0;34m)\u001b[0m\u001b[0;34m\u001b[0m\u001b[0;34m\u001b[0m\u001b[0m\n\u001b[0m\u001b[1;32m    132\u001b[0m \u001b[0;34m\u001b[0m\u001b[0m\n\u001b[1;32m    133\u001b[0m     \u001b[0mwrapper\u001b[0m\u001b[0;34m.\u001b[0m\u001b[0m__name__\u001b[0m \u001b[0;34m=\u001b[0m \u001b[0;34m\"__{name}__\"\u001b[0m\u001b[0;34m.\u001b[0m\u001b[0mformat\u001b[0m\u001b[0;34m(\u001b[0m\u001b[0mname\u001b[0m\u001b[0;34m=\u001b[0m\u001b[0mconverter\u001b[0m\u001b[0;34m.\u001b[0m\u001b[0m__name__\u001b[0m\u001b[0;34m)\u001b[0m\u001b[0;34m\u001b[0m\u001b[0;34m\u001b[0m\u001b[0m\n",
      "\u001b[0;31mTypeError\u001b[0m: cannot convert the series to <class 'int'>"
     ]
    }
   ],
   "source": [
    "#!c1.8\n",
    "train['target']=np.int(train['target'])"
   ]
  },
  {
   "cell_type": "code",
   "execution_count": null,
   "id": "d8587818",
   "metadata": {
    "cellId": "sfaesoq28bn2knlz7gdq6r"
   },
   "outputs": [],
   "source": [
    "#!c1.8\n",
    "for i in CAT_COLUMNS:\n",
    "    print(train[i].value_counts())"
   ]
  },
  {
   "cell_type": "code",
   "execution_count": 98,
   "id": "f5e17c66",
   "metadata": {
    "cellId": "jqg4y32atusz6gt74gf3"
   },
   "outputs": [],
   "source": [
    "#!c1.8\n",
    "model = CatBoostClassifier(random_seed=42,\n",
    "                           iterations=10000,\n",
    "                           learning_rate=0.02,\n",
    "                           l2_leaf_reg=3,\n",
    "                           depth=5,\n",
    "                           #task_type=\"GPU\", # раскомментить, когда с GPU\n",
    "                           thread_count=-1,\n",
    "                           use_best_model=True,\n",
    "                           leaf_estimation_method='Newton',\n",
    "                           custom_loss=[ 'AUC'],\n",
    "                           nan_mode='Min'\n",
    "\n",
    "                          )\n",
    "\n"
   ]
  },
  {
   "cell_type": "code",
   "execution_count": 124,
   "id": "d645185a",
   "metadata": {
    "cellId": "ugc2xte6msf3xtwdsr8zph",
    "execution_id": "8ded28db-9a4b-4234-bee2-e176301969f1"
   },
   "outputs": [
    {
     "name": "stdout",
     "output_type": "stream",
     "text": [
      "0:\tlearn: 0.6726585\ttest: 0.6726691\tbest: 0.6726691 (0)\ttotal: 3.39s\tremaining: 9h 25m 3s\n",
      "500:\tlearn: 0.2753480\ttest: 0.2754023\tbest: 0.2754023 (500)\ttotal: 22m 21s\tremaining: 7h 3m 47s\n",
      "1000:\tlearn: 0.2695901\ttest: 0.2698207\tbest: 0.2698207 (1000)\ttotal: 44m 29s\tremaining: 6h 39m 59s\n",
      "1500:\tlearn: 0.2668348\ttest: 0.2672275\tbest: 0.2672275 (1500)\ttotal: 1h 6m 1s\tremaining: 6h 13m 51s\n",
      "2000:\tlearn: 0.2649395\ttest: 0.2654992\tbest: 0.2654992 (2000)\ttotal: 1h 27m 32s\tremaining: 5h 49m 58s\n",
      "2500:\tlearn: 0.2634614\ttest: 0.2641926\tbest: 0.2641926 (2500)\ttotal: 1h 49m 12s\tremaining: 5h 27m 28s\n",
      "3000:\tlearn: 0.2622335\ttest: 0.2631332\tbest: 0.2631332 (3000)\ttotal: 2h 10m 39s\tremaining: 5h 4m 43s\n",
      "3500:\tlearn: 0.2611506\ttest: 0.2622200\tbest: 0.2622200 (3500)\ttotal: 2h 32m 9s\tremaining: 4h 42m 27s\n",
      "4000:\tlearn: 0.2601602\ttest: 0.2613932\tbest: 0.2613932 (4000)\ttotal: 2h 53m 39s\tremaining: 4h 20m 22s\n",
      "4500:\tlearn: 0.2592717\ttest: 0.2606634\tbest: 0.2606634 (4500)\ttotal: 3h 14m 51s\tremaining: 3h 58m 3s\n",
      "5000:\tlearn: 0.2584367\ttest: 0.2599821\tbest: 0.2599821 (5000)\ttotal: 3h 36m 15s\tremaining: 3h 36m 9s\n",
      "5500:\tlearn: 0.2576358\ttest: 0.2593403\tbest: 0.2593403 (5500)\ttotal: 3h 57m 54s\tremaining: 3h 14m 34s\n",
      "6000:\tlearn: 0.2568721\ttest: 0.2587294\tbest: 0.2587294 (6000)\ttotal: 4h 19m 24s\tremaining: 2h 52m 51s\n",
      "6500:\tlearn: 0.2561450\ttest: 0.2581559\tbest: 0.2581559 (6500)\ttotal: 4h 40m 49s\tremaining: 2h 31m 8s\n",
      "7000:\tlearn: 0.2554618\ttest: 0.2576166\tbest: 0.2576166 (7000)\ttotal: 5h 2m 14s\tremaining: 2h 9m 28s\n",
      "7500:\tlearn: 0.2547960\ttest: 0.2571004\tbest: 0.2571004 (7500)\ttotal: 5h 23m 46s\tremaining: 1h 47m 52s\n",
      "8000:\tlearn: 0.2541680\ttest: 0.2566235\tbest: 0.2566235 (8000)\ttotal: 5h 45m 28s\tremaining: 1h 26m 18s\n",
      "8500:\tlearn: 0.2535472\ttest: 0.2561450\tbest: 0.2561450 (8500)\ttotal: 6h 7m 20s\tremaining: 1h 4m 46s\n",
      "9000:\tlearn: 0.2529603\ttest: 0.2557026\tbest: 0.2557026 (9000)\ttotal: 6h 29m 27s\tremaining: 43m 13s\n",
      "9500:\tlearn: 0.2523813\ttest: 0.2552606\tbest: 0.2552606 (9500)\ttotal: 6h 51m 52s\tremaining: 21m 37s\n",
      "9999:\tlearn: 0.2518193\ttest: 0.2548401\tbest: 0.2548401 (9999)\ttotal: 7h 14m 22s\tremaining: 0us\n",
      "\n",
      "bestTest = 0.2548401071\n",
      "bestIteration = 9999\n",
      "\n",
      "{'learn': {'Logloss': 0.2518193032881892}, 'validation': {'Logloss': 0.25484010711487254, 'AUC': 0.9454034026447401}}\n"
     ]
    }
   ],
   "source": [
    "#!c1.8\n",
    "model.fit(train[catboost_features], train['target'],\n",
    "                    cat_features = CAT_COLUMNS,\n",
    "                    eval_set=(val[catboost_features], val['target']),\n",
    "                    verbose=500, plot=False, early_stopping_rounds=600\n",
    "         )\n",
    "\n",
    "print(model.get_best_score())"
   ]
  },
  {
   "cell_type": "code",
   "execution_count": 104,
   "id": "97f2e88d",
   "metadata": {
    "cellId": "0blt00827cu62t1kuquk32g"
   },
   "outputs": [
    {
     "data": {
      "text/plain": [
       "0.0    3322865\n",
       "1.0    1102295\n",
       "Name: target, dtype: int64"
      ]
     },
     "execution_count": 104,
     "metadata": {},
     "output_type": "execute_result"
    }
   ],
   "source": [
    "#!c1.8\n",
    "train['target'].value_counts()"
   ]
  },
  {
   "cell_type": "code",
   "execution_count": 133,
   "id": "cca758a5",
   "metadata": {
    "cellId": "1tkpx82vevjhc2soo5qmn"
   },
   "outputs": [],
   "source": [
    "#!c1.8\n",
    "train['t_est']=model.predict_proba(train[catboost_features])[:,1]"
   ]
  },
  {
   "cell_type": "code",
   "execution_count": 166,
   "id": "10df48c8",
   "metadata": {
    "cellId": "knjty5czifntax94if5ry"
   },
   "outputs": [
    {
     "data": {
      "text/plain": [
       "2"
      ]
     },
     "execution_count": 166,
     "metadata": {},
     "output_type": "execute_result"
    }
   ],
   "source": [
    "#!c1.8\n",
    "1+1"
   ]
  },
  {
   "cell_type": "code",
   "execution_count": 235,
   "id": "9c3078d0",
   "metadata": {
    "cellId": "aqq4e5ze1reljlirsjfkqb"
   },
   "outputs": [],
   "source": [
    "#!c1.8\n",
    "test['t_est']=model.predict_proba(test[catboost_features])[:,1]"
   ]
  },
  {
   "cell_type": "code",
   "execution_count": 129,
   "id": "efb8d57d",
   "metadata": {
    "cellId": "hruitx8o6a9h738ohqs21p"
   },
   "outputs": [],
   "source": [
    "#!c1.8\n",
    "train['S_2']=pd.to_datetime(train['S_2'])\n",
    "val['S_2']=pd.to_datetime(val['S_2'])"
   ]
  },
  {
   "cell_type": "code",
   "execution_count": 233,
   "id": "2cbf4015",
   "metadata": {
    "cellId": "1shpsfpmdjq6zcv5dyfv0p"
   },
   "outputs": [
    {
     "data": {
      "text/plain": [
       "2"
      ]
     },
     "execution_count": 233,
     "metadata": {},
     "output_type": "execute_result"
    }
   ],
   "source": [
    "#!c1.8\n",
    "1+1"
   ]
  },
  {
   "cell_type": "code",
   "execution_count": 234,
   "id": "2253bb60",
   "metadata": {
    "cellId": "u11penhl4i7cmhamwricd"
   },
   "outputs": [],
   "source": [
    "#!c1.8\n",
    "test['S_2']=pd.to_datetime(test['S_2'])"
   ]
  },
  {
   "cell_type": "code",
   "execution_count": null,
   "id": "61318529",
   "metadata": {
    "cellId": "1u38u6mvrkquug3su91sn8"
   },
   "outputs": [],
   "source": [
    "#!c1.8\n",
    "train.head()"
   ]
  },
  {
   "cell_type": "code",
   "execution_count": null,
   "id": "4fd36183",
   "metadata": {
    "cellId": "ra90c07hsum8mz13mnfuj"
   },
   "outputs": [],
   "source": [
    "#!c1.8\n",
    "for i in train['t_est'][:100]:\n",
    "    print(i)"
   ]
  },
  {
   "cell_type": "code",
   "execution_count": 125,
   "id": "27d0ce37",
   "metadata": {
    "cellId": "z646vyrbc96dhpsnkj1b6"
   },
   "outputs": [
    {
     "ename": "SyntaxError",
     "evalue": "invalid syntax (<ipython-input-1-77b1263849e5>, line 2)",
     "output_type": "error",
     "traceback": [
      "\u001b[0;36m  File \u001b[0;32m\"<ipython-input-1-77b1263849e5>\"\u001b[0;36m, line \u001b[0;32m2\u001b[0m\n\u001b[0;31m    Вернуть NA в числовые значения перед бустингом\u001b[0m\n\u001b[0m            ^\u001b[0m\n\u001b[0;31mSyntaxError\u001b[0m\u001b[0;31m:\u001b[0m invalid syntax\n"
     ]
    }
   ],
   "source": [
    "#!c1.8\n",
    "###\n",
    "Вернуть NA в числовые значения перед бустингом\n",
    "Есть ли у нас пересечение теста и трейна\n",
    "###"
   ]
  },
  {
   "cell_type": "code",
   "execution_count": null,
   "id": "4e81d6b5",
   "metadata": {
    "cellId": "syhke7vnodliq5qe59uplq"
   },
   "outputs": [],
   "source": [
    "#!c1.8\n",
    "1+1"
   ]
  },
  {
   "cell_type": "code",
   "execution_count": 163,
   "id": "95ce5f74",
   "metadata": {
    "cellId": "vwrd5zm2l59x1sgc5bm5j"
   },
   "outputs": [],
   "source": [
    "#!c1.8\n",
    "def preprocess(df,id,target=True):\n",
    "    #print(df)\n",
    "    df.sort_values('S_2',inplace=True)  # ascending = True по возрастанию\n",
    "    estimates=df['t_est'].to_list()\n",
    "    _list=[id,len(estimates)]\n",
    "    \n",
    "    _list=_list+[estimates[0]]*(18-len(estimates))+estimates\n",
    "    if target:\n",
    "        _list+=[df['target'].iloc[0]]\n",
    "#     if len(_list)<20:\n",
    "#         print('===')\n",
    "    new_df=pd.DataFrame.from_records([_list])\n",
    "    return new_df"
   ]
  },
  {
   "cell_type": "code",
   "execution_count": null,
   "id": "17b0fefd",
   "metadata": {
    "cellId": "wwierts9pd88fcj6bee0n8"
   },
   "outputs": [],
   "source": [
    "#!c1.8\n",
    "\n",
    "\n",
    "    \n",
    "regr_train=[]    \n",
    "for id,df in train.groupby('customer_ID'):\n",
    "    regr_train.append(preprocess(df,id))\n",
    "    \n",
    "regr_train=pd.concat(regr_train)\n",
    "regr_train.columns=['customer_ID','len_list']+['col'+str(i) for i in range(1,19)]+['target']\n",
    "    "
   ]
  },
  {
   "cell_type": "code",
   "execution_count": 150,
   "id": "a2b40829",
   "metadata": {
    "cellId": "5fpt33sqw741bwyedjbuqd"
   },
   "outputs": [],
   "source": [
    "#!c1.8\n",
    "val['t_est']=model.predict_proba(val[catboost_features])[:,1]"
   ]
  },
  {
   "cell_type": "code",
   "execution_count": 151,
   "id": "aa84b450",
   "metadata": {
    "cellId": "48vljbwbgl87ojaq0e5s9c"
   },
   "outputs": [
    {
     "name": "stderr",
     "output_type": "stream",
     "text": [
      "<ipython-input-1-54f578993ed8>:3: SettingWithCopyWarning: \n",
      "A value is trying to be set on a copy of a slice from a DataFrame\n",
      "\n",
      "See the caveats in the documentation: http://pandas.pydata.org/pandas-docs/stable/user_guide/indexing.html#returning-a-view-versus-a-copy\n",
      "  df.sort_values('S_2',inplace=True)  # ascending = True по возрастанию\n"
     ]
    }
   ],
   "source": [
    "#!c1.8\n",
    "regr_train_val=[]    \n",
    "for id,df in val.groupby('customer_ID'):\n",
    "    regr_train_val.append(preprocess(df,id))\n",
    "    \n",
    "regr_train_val=pd.concat(regr_train_val)\n",
    "regr_train_val.columns=['customer_ID','len_list']+['col'+str(i) for i in range(1,19)]+['target']"
   ]
  },
  {
   "cell_type": "code",
   "execution_count": 237,
   "id": "acc00389",
   "metadata": {
    "cellId": "d8kq9q2r33p4r10g7rk4j"
   },
   "outputs": [
    {
     "name": "stderr",
     "output_type": "stream",
     "text": [
      "<ipython-input-7-2b69cc5af793>:3: SettingWithCopyWarning: \n",
      "A value is trying to be set on a copy of a slice from a DataFrame\n",
      "\n",
      "See the caveats in the documentation: http://pandas.pydata.org/pandas-docs/stable/user_guide/indexing.html#returning-a-view-versus-a-copy\n"
     ]
    }
   ],
   "source": [
    "#!c1.8\n",
    "regr_test=[]    \n",
    "for id,df in test.groupby('customer_ID'):\n",
    "    regr_test.append(preprocess(df,id,target=False))\n",
    "    \n",
    "regr_test=pd.concat(regr_test)\n",
    "regr_test.columns=['customer_ID','len_list']+['col'+str(i) for i in range(1,19)]  #+['target']"
   ]
  },
  {
   "cell_type": "code",
   "execution_count": 148,
   "id": "3be7ae45",
   "metadata": {
    "cellId": "r0qyvo21vapwa4ttayxl7a"
   },
   "outputs": [],
   "source": [
    "#!c1.8\n",
    "regr_train.columns=['customer_ID','len_list']+['col'+str(i) for i in range(1,19)]+['target']"
   ]
  },
  {
   "cell_type": "code",
   "execution_count": 146,
   "id": "8765cfe7",
   "metadata": {
    "cellId": "wbh4ji5hk4d8185102bvv"
   },
   "outputs": [
    {
     "data": {
      "text/html": [
       "<div>\n",
       "<style scoped>\n",
       "    .dataframe tbody tr th:only-of-type {\n",
       "        vertical-align: middle;\n",
       "    }\n",
       "\n",
       "    .dataframe tbody tr th {\n",
       "        vertical-align: top;\n",
       "    }\n",
       "\n",
       "    .dataframe thead th {\n",
       "        text-align: right;\n",
       "    }\n",
       "</style>\n",
       "<table border=\"1\" class=\"dataframe\">\n",
       "  <thead>\n",
       "    <tr style=\"text-align: right;\">\n",
       "      <th></th>\n",
       "      <th>0</th>\n",
       "      <th>1</th>\n",
       "      <th>2</th>\n",
       "      <th>3</th>\n",
       "      <th>4</th>\n",
       "      <th>5</th>\n",
       "      <th>6</th>\n",
       "      <th>7</th>\n",
       "      <th>8</th>\n",
       "      <th>9</th>\n",
       "      <th>10</th>\n",
       "      <th>11</th>\n",
       "      <th>12</th>\n",
       "      <th>13</th>\n",
       "    </tr>\n",
       "  </thead>\n",
       "  <tbody>\n",
       "    <tr>\n",
       "      <th>0</th>\n",
       "      <td>00116df300d0b6762bf4661c53fa499bd4b8915b6a6636...</td>\n",
       "      <td>0.001616</td>\n",
       "      <td>0.006388</td>\n",
       "      <td>0.001061</td>\n",
       "      <td>0.002428</td>\n",
       "      <td>0.003391</td>\n",
       "      <td>0.00199</td>\n",
       "      <td>0.007352</td>\n",
       "      <td>0.004604</td>\n",
       "      <td>0.000655</td>\n",
       "      <td>0.000648</td>\n",
       "      <td>0.00049</td>\n",
       "      <td>0.000977</td>\n",
       "      <td>0</td>\n",
       "    </tr>\n",
       "  </tbody>\n",
       "</table>\n",
       "</div>"
      ],
      "text/plain": [
       "                                                   0         1         2  \\\n",
       "0  00116df300d0b6762bf4661c53fa499bd4b8915b6a6636...  0.001616  0.006388   \n",
       "\n",
       "          3         4         5        6         7         8         9  \\\n",
       "0  0.001061  0.002428  0.003391  0.00199  0.007352  0.004604  0.000655   \n",
       "\n",
       "         10       11        12  13  \n",
       "0  0.000648  0.00049  0.000977   0  "
      ]
     },
     "execution_count": 146,
     "metadata": {},
     "output_type": "execute_result"
    }
   ],
   "source": [
    "#!c1.8\n",
    "regr_train[110]"
   ]
  },
  {
   "cell_type": "code",
   "execution_count": 154,
   "id": "621e98ef",
   "metadata": {
    "cellId": "ejpw7taze2edny6ziyn0kl"
   },
   "outputs": [
    {
     "name": "stdout",
     "output_type": "stream",
     "text": [
      "0.9528831266308277\n"
     ]
    }
   ],
   "source": [
    "#!c1.8\n",
    "train_clmns=regr_train.columns[1:-1]\n",
    "regr_clf=LogisticRegression(C=5,max_iter=10000)\n",
    "regr_clf.fit(regr_train[train_clmns],regr_train['target'])\n",
    "probs=regr_clf.predict_proba(regr_train_val[train_clmns])[:,1]\n",
    "print(roc_auc_score(regr_train_val['target'].values, probs))"
   ]
  },
  {
   "cell_type": "code",
   "execution_count": 238,
   "id": "69c548cb",
   "metadata": {
    "cellId": "cwns25a40ydwagmhrd08jg"
   },
   "outputs": [
    {
     "data": {
      "text/plain": [
       "2"
      ]
     },
     "execution_count": 238,
     "metadata": {},
     "output_type": "execute_result"
    }
   ],
   "source": [
    "#!c1.8\n",
    "1+1"
   ]
  },
  {
   "cell_type": "code",
   "execution_count": 239,
   "id": "c87b8b19",
   "metadata": {
    "cellId": "hhzrm5mbg1j6ezwzbxh3od"
   },
   "outputs": [],
   "source": [
    "#!c1.8\n",
    "train_clmns=regr_train.columns[1:-1]\n",
    "probs=regr_clf.predict_proba(regr_test[train_clmns])[:,1]\n",
    "#print(roc_auc_score(regr_train_val['target'].values, probs))"
   ]
  },
  {
   "cell_type": "code",
   "execution_count": 169,
   "id": "39d3e88f",
   "metadata": {
    "cellId": "sqxudresmlpu75ildezu9l"
   },
   "outputs": [
    {
     "data": {
      "text/html": [
       "<div>\n",
       "<style scoped>\n",
       "    .dataframe tbody tr th:only-of-type {\n",
       "        vertical-align: middle;\n",
       "    }\n",
       "\n",
       "    .dataframe tbody tr th {\n",
       "        vertical-align: top;\n",
       "    }\n",
       "\n",
       "    .dataframe thead th {\n",
       "        text-align: right;\n",
       "    }\n",
       "</style>\n",
       "<table border=\"1\" class=\"dataframe\">\n",
       "  <thead>\n",
       "    <tr style=\"text-align: right;\">\n",
       "      <th></th>\n",
       "      <th>customer_ID</th>\n",
       "      <th>len_list</th>\n",
       "      <th>col1</th>\n",
       "      <th>col2</th>\n",
       "      <th>col3</th>\n",
       "      <th>col4</th>\n",
       "      <th>col5</th>\n",
       "      <th>col6</th>\n",
       "      <th>col7</th>\n",
       "      <th>col8</th>\n",
       "      <th>col9</th>\n",
       "      <th>col10</th>\n",
       "      <th>col11</th>\n",
       "      <th>col12</th>\n",
       "      <th>col13</th>\n",
       "      <th>col14</th>\n",
       "      <th>col15</th>\n",
       "      <th>col16</th>\n",
       "      <th>col17</th>\n",
       "      <th>col18</th>\n",
       "    </tr>\n",
       "  </thead>\n",
       "  <tbody>\n",
       "    <tr>\n",
       "      <th>0</th>\n",
       "      <td>00000469ba478561f23a92a868bd366de6f6527a684c9a...</td>\n",
       "      <td>9</td>\n",
       "      <td>0.118511</td>\n",
       "      <td>0.118511</td>\n",
       "      <td>0.118511</td>\n",
       "      <td>0.118511</td>\n",
       "      <td>0.118511</td>\n",
       "      <td>0.118511</td>\n",
       "      <td>0.118511</td>\n",
       "      <td>0.118511</td>\n",
       "      <td>0.118511</td>\n",
       "      <td>0.118511</td>\n",
       "      <td>0.123152</td>\n",
       "      <td>0.141278</td>\n",
       "      <td>0.155911</td>\n",
       "      <td>0.159883</td>\n",
       "      <td>0.117958</td>\n",
       "      <td>0.133614</td>\n",
       "      <td>0.096891</td>\n",
       "      <td>0.067206</td>\n",
       "    </tr>\n",
       "    <tr>\n",
       "      <th>0</th>\n",
       "      <td>00001bf2e77ff879fab36aa4fac689b9ba411dae63ae39...</td>\n",
       "      <td>13</td>\n",
       "      <td>0.005840</td>\n",
       "      <td>0.005840</td>\n",
       "      <td>0.005840</td>\n",
       "      <td>0.005840</td>\n",
       "      <td>0.005840</td>\n",
       "      <td>0.005840</td>\n",
       "      <td>0.029305</td>\n",
       "      <td>0.006877</td>\n",
       "      <td>0.011171</td>\n",
       "      <td>0.005713</td>\n",
       "      <td>0.004922</td>\n",
       "      <td>0.004180</td>\n",
       "      <td>0.003705</td>\n",
       "      <td>0.004549</td>\n",
       "      <td>0.005037</td>\n",
       "      <td>0.004627</td>\n",
       "      <td>0.004572</td>\n",
       "      <td>0.004022</td>\n",
       "    </tr>\n",
       "    <tr>\n",
       "      <th>0</th>\n",
       "      <td>0000210045da4f81e5f122c6bde5c2a617d03eef67f82c...</td>\n",
       "      <td>13</td>\n",
       "      <td>0.087577</td>\n",
       "      <td>0.087577</td>\n",
       "      <td>0.087577</td>\n",
       "      <td>0.087577</td>\n",
       "      <td>0.087577</td>\n",
       "      <td>0.087577</td>\n",
       "      <td>0.089002</td>\n",
       "      <td>0.123580</td>\n",
       "      <td>0.116484</td>\n",
       "      <td>0.045691</td>\n",
       "      <td>0.040582</td>\n",
       "      <td>0.050107</td>\n",
       "      <td>0.037190</td>\n",
       "      <td>0.122938</td>\n",
       "      <td>0.216381</td>\n",
       "      <td>0.262812</td>\n",
       "      <td>0.307264</td>\n",
       "      <td>0.172739</td>\n",
       "    </tr>\n",
       "    <tr>\n",
       "      <th>0</th>\n",
       "      <td>00003b41e58ede33b8daf61ab56d9952f17c9ad1c3976c...</td>\n",
       "      <td>13</td>\n",
       "      <td>0.716250</td>\n",
       "      <td>0.716250</td>\n",
       "      <td>0.716250</td>\n",
       "      <td>0.716250</td>\n",
       "      <td>0.716250</td>\n",
       "      <td>0.716250</td>\n",
       "      <td>0.705836</td>\n",
       "      <td>0.699904</td>\n",
       "      <td>0.664491</td>\n",
       "      <td>0.640767</td>\n",
       "      <td>0.553139</td>\n",
       "      <td>0.566970</td>\n",
       "      <td>0.669744</td>\n",
       "      <td>0.511646</td>\n",
       "      <td>0.490794</td>\n",
       "      <td>0.418733</td>\n",
       "      <td>0.510129</td>\n",
       "      <td>0.344996</td>\n",
       "    </tr>\n",
       "    <tr>\n",
       "      <th>0</th>\n",
       "      <td>00004b22eaeeeb0ec976890c1d9bfc14fd9427e98c4ee9...</td>\n",
       "      <td>13</td>\n",
       "      <td>0.691515</td>\n",
       "      <td>0.691515</td>\n",
       "      <td>0.691515</td>\n",
       "      <td>0.691515</td>\n",
       "      <td>0.691515</td>\n",
       "      <td>0.691515</td>\n",
       "      <td>0.689355</td>\n",
       "      <td>0.657174</td>\n",
       "      <td>0.699020</td>\n",
       "      <td>0.654079</td>\n",
       "      <td>0.653429</td>\n",
       "      <td>0.683605</td>\n",
       "      <td>0.821682</td>\n",
       "      <td>0.883017</td>\n",
       "      <td>0.799818</td>\n",
       "      <td>0.800576</td>\n",
       "      <td>0.843272</td>\n",
       "      <td>0.884379</td>\n",
       "    </tr>\n",
       "  </tbody>\n",
       "</table>\n",
       "</div>"
      ],
      "text/plain": [
       "                                         customer_ID  len_list      col1  \\\n",
       "0  00000469ba478561f23a92a868bd366de6f6527a684c9a...         9  0.118511   \n",
       "0  00001bf2e77ff879fab36aa4fac689b9ba411dae63ae39...        13  0.005840   \n",
       "0  0000210045da4f81e5f122c6bde5c2a617d03eef67f82c...        13  0.087577   \n",
       "0  00003b41e58ede33b8daf61ab56d9952f17c9ad1c3976c...        13  0.716250   \n",
       "0  00004b22eaeeeb0ec976890c1d9bfc14fd9427e98c4ee9...        13  0.691515   \n",
       "\n",
       "       col2      col3      col4      col5      col6      col7      col8  \\\n",
       "0  0.118511  0.118511  0.118511  0.118511  0.118511  0.118511  0.118511   \n",
       "0  0.005840  0.005840  0.005840  0.005840  0.005840  0.029305  0.006877   \n",
       "0  0.087577  0.087577  0.087577  0.087577  0.087577  0.089002  0.123580   \n",
       "0  0.716250  0.716250  0.716250  0.716250  0.716250  0.705836  0.699904   \n",
       "0  0.691515  0.691515  0.691515  0.691515  0.691515  0.689355  0.657174   \n",
       "\n",
       "       col9     col10     col11     col12     col13     col14     col15  \\\n",
       "0  0.118511  0.118511  0.123152  0.141278  0.155911  0.159883  0.117958   \n",
       "0  0.011171  0.005713  0.004922  0.004180  0.003705  0.004549  0.005037   \n",
       "0  0.116484  0.045691  0.040582  0.050107  0.037190  0.122938  0.216381   \n",
       "0  0.664491  0.640767  0.553139  0.566970  0.669744  0.511646  0.490794   \n",
       "0  0.699020  0.654079  0.653429  0.683605  0.821682  0.883017  0.799818   \n",
       "\n",
       "      col16     col17     col18  \n",
       "0  0.133614  0.096891  0.067206  \n",
       "0  0.004627  0.004572  0.004022  \n",
       "0  0.262812  0.307264  0.172739  \n",
       "0  0.418733  0.510129  0.344996  \n",
       "0  0.800576  0.843272  0.884379  "
      ]
     },
     "execution_count": 169,
     "metadata": {},
     "output_type": "execute_result"
    }
   ],
   "source": [
    "#!c1.8\n",
    "regr_test.head()"
   ]
  },
  {
   "cell_type": "code",
   "execution_count": 240,
   "id": "25df3d41",
   "metadata": {
    "cellId": "mov2ybw4gaeipbv86dmho"
   },
   "outputs": [],
   "source": [
    "#!c1.8\n",
    "answer=regr_test[['customer_ID']].copy()\n",
    "answer['prediction']=probs"
   ]
  },
  {
   "cell_type": "code",
   "execution_count": 241,
   "id": "dd92dcea",
   "metadata": {
    "cellId": "cvtjpep8a8eueb2m97y5v"
   },
   "outputs": [],
   "source": [
    "#!c1.8\n",
    "sub=pd.read_csv('sample_submission.csv')"
   ]
  },
  {
   "cell_type": "code",
   "execution_count": 242,
   "id": "35ec3b9c",
   "metadata": {
    "cellId": "jtnwellc4kiq5yrkatr48k"
   },
   "outputs": [
    {
     "data": {
      "text/plain": [
       "924621"
      ]
     },
     "execution_count": 242,
     "metadata": {},
     "output_type": "execute_result"
    }
   ],
   "source": [
    "#!c1.8\n",
    "len(answer)"
   ]
  },
  {
   "cell_type": "code",
   "execution_count": 236,
   "id": "9341b68f",
   "metadata": {
    "cellId": "vsrrqboxcyj0xc1p1bbit1"
   },
   "outputs": [
    {
     "data": {
      "text/plain": [
       "924621"
      ]
     },
     "execution_count": 236,
     "metadata": {},
     "output_type": "execute_result"
    }
   ],
   "source": [
    "#!c1.8\n",
    "len(test.customer_ID.unique())  #924621"
   ]
  },
  {
   "cell_type": "code",
   "execution_count": 243,
   "id": "4580efc6",
   "metadata": {
    "cellId": "05scahtigeqxqkp94vk3iq"
   },
   "outputs": [],
   "source": [
    "#!c1.8\n",
    "sub.drop('prediction',inplace=True,axis=1)"
   ]
  },
  {
   "cell_type": "code",
   "execution_count": 244,
   "id": "89fc0f42",
   "metadata": {
    "cellId": "ao9ukxbvrrey9nmuel0dfl"
   },
   "outputs": [],
   "source": [
    "#!c1.8\n",
    "sub=sub.merge(answer,left_on='customer_ID',right_on='customer_ID',how='left')"
   ]
  },
  {
   "cell_type": "code",
   "execution_count": 245,
   "id": "55330860",
   "metadata": {
    "cellId": "rhv8n6u8mz94gzp5os0oes"
   },
   "outputs": [
    {
     "data": {
      "text/html": [
       "<div>\n",
       "<style scoped>\n",
       "    .dataframe tbody tr th:only-of-type {\n",
       "        vertical-align: middle;\n",
       "    }\n",
       "\n",
       "    .dataframe tbody tr th {\n",
       "        vertical-align: top;\n",
       "    }\n",
       "\n",
       "    .dataframe thead th {\n",
       "        text-align: right;\n",
       "    }\n",
       "</style>\n",
       "<table border=\"1\" class=\"dataframe\">\n",
       "  <thead>\n",
       "    <tr style=\"text-align: right;\">\n",
       "      <th></th>\n",
       "      <th>customer_ID</th>\n",
       "      <th>prediction</th>\n",
       "    </tr>\n",
       "  </thead>\n",
       "  <tbody>\n",
       "    <tr>\n",
       "      <th>0</th>\n",
       "      <td>00000469ba478561f23a92a868bd366de6f6527a684c9a...</td>\n",
       "      <td>0.029033</td>\n",
       "    </tr>\n",
       "    <tr>\n",
       "      <th>1</th>\n",
       "      <td>00001bf2e77ff879fab36aa4fac689b9ba411dae63ae39...</td>\n",
       "      <td>0.016619</td>\n",
       "    </tr>\n",
       "    <tr>\n",
       "      <th>2</th>\n",
       "      <td>0000210045da4f81e5f122c6bde5c2a617d03eef67f82c...</td>\n",
       "      <td>0.057743</td>\n",
       "    </tr>\n",
       "    <tr>\n",
       "      <th>3</th>\n",
       "      <td>00003b41e58ede33b8daf61ab56d9952f17c9ad1c3976c...</td>\n",
       "      <td>0.234991</td>\n",
       "    </tr>\n",
       "    <tr>\n",
       "      <th>4</th>\n",
       "      <td>00004b22eaeeeb0ec976890c1d9bfc14fd9427e98c4ee9...</td>\n",
       "      <td>0.922792</td>\n",
       "    </tr>\n",
       "  </tbody>\n",
       "</table>\n",
       "</div>"
      ],
      "text/plain": [
       "                                         customer_ID  prediction\n",
       "0  00000469ba478561f23a92a868bd366de6f6527a684c9a...    0.029033\n",
       "1  00001bf2e77ff879fab36aa4fac689b9ba411dae63ae39...    0.016619\n",
       "2  0000210045da4f81e5f122c6bde5c2a617d03eef67f82c...    0.057743\n",
       "3  00003b41e58ede33b8daf61ab56d9952f17c9ad1c3976c...    0.234991\n",
       "4  00004b22eaeeeb0ec976890c1d9bfc14fd9427e98c4ee9...    0.922792"
      ]
     },
     "execution_count": 245,
     "metadata": {},
     "output_type": "execute_result"
    }
   ],
   "source": [
    "#!c1.8\n",
    "sub.head()"
   ]
  },
  {
   "cell_type": "code",
   "execution_count": 246,
   "id": "8cbb2500",
   "metadata": {
    "cellId": "bx9kp5l9saq3eunqwxt5"
   },
   "outputs": [],
   "source": [
    "#!c1.8\n",
    "sub.to_csv('submission_17Aug-18-00.csv', index=None)"
   ]
  },
  {
   "cell_type": "code",
   "execution_count": 195,
   "id": "921359a0",
   "metadata": {
    "cellId": "w6wsyt33sjgwp47rftthst"
   },
   "outputs": [
    {
     "data": {
      "text/plain": [
       "93902"
      ]
     },
     "execution_count": 195,
     "metadata": {},
     "output_type": "execute_result"
    }
   ],
   "source": [
    "#!c1.8\n",
    "len(sub)"
   ]
  },
  {
   "cell_type": "code",
   "execution_count": null,
   "id": "30964aca",
   "metadata": {
    "cellId": "t02d9wkfj3noz7fq56a0p"
   },
   "outputs": [],
   "source": [
    "#!c1.8\n"
   ]
  }
 ],
 "metadata": {
  "language_info": {
   "codemirror_mode": {
    "name": "ipython",
    "version": 3
   },
   "file_extension": ".py",
   "mimetype": "text/x-python",
   "name": "python",
   "nbconvert_exporter": "python",
   "pygments_lexer": "ipython3",
   "version": "3.7.7"
  },
  "notebookId": "6cc57011-f057-40c7-bf1e-97b760905b2d",
  "notebookPath": "Amex_Dima.ipynb"
 },
 "nbformat": 4,
 "nbformat_minor": 5
}
